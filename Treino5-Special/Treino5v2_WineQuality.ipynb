{
 "cells": [
  {
   "cell_type": "markdown",
   "metadata": {},
   "source": [
    "# FCT Unesp - TCC Treino 5v2\n",
    "Aluno: Pétrus Antonio Bárbosa Pradella\n",
    "\n",
    "TCC2 - Treinando análise preditiva em análise Linear.\n",
    "\n",
    "Teste 1\n",
    "    - DataSet Utilizado: Wine Quality\n",
    "    - Fonte: towardsdatascience.com\n",
    "    - Link: https://drive.google.com/file/d/195gkZ5cTZL11L308MHc7EyBbAoiB4xqf/view\n",
    "    \n",
    "Caracteristicas gerais do Dataset:\n",
    "\n",
    "    - Número de Instancias: 1599\n",
    "    - Número de Atributos: 12"
   ]
  },
  {
   "cell_type": "markdown",
   "metadata": {},
   "source": [
    "### Importando as bibliotecas necessárias"
   ]
  },
  {
   "cell_type": "code",
   "execution_count": 1,
   "metadata": {
    "pycharm": {
     "is_executing": false,
     "name": "#%%\n"
    }
   },
   "outputs": [
    {
     "data": {
      "text/plain": "'1.0.3b'"
     },
     "metadata": {},
     "output_type": "execute_result",
     "execution_count": 1
    }
   ],
   "source": [
    "from myownapi.AnalyticsLR import AnalyticsLR;\n",
    "\n",
    "analytics = AnalyticsLR();\n",
    "\n",
    "analytics.getVersion()\n"
   ]
  },
  {
   "cell_type": "markdown",
   "metadata": {},
   "source": [
    "### Carregando a base de dados"
   ]
  },
  {
   "cell_type": "code",
   "execution_count": 2,
   "metadata": {
    "pycharm": {
     "is_executing": false,
     "name": "#%%\n"
    }
   },
   "outputs": [
    {
     "name": "stdout",
     "text": [
      "Iniciando leitura do arquivo:\n",
      " --> C:/Users/Petrus/Desktop/UNESP/Docs 2016-2020/2019/Segundo Semestre/TCC2/TCC BigData Analytics/Treino5-Special/winequality.csv\n",
      "Arquivo lido com sucesso!\n"
     ],
     "output_type": "stream"
    },
    {
     "data": {
      "text/plain": "   fixed acidity  volatile acidity  citric acid  residual sugar  chlorides  \\\n0            7.4              0.70         0.00             1.9      0.076   \n1            7.8              0.88         0.00             2.6      0.098   \n2            7.8              0.76         0.04             2.3      0.092   \n\n   free sulfur dioxide  total sulfur dioxide  density    pH  sulphates  \\\n0                 11.0                  34.0   0.9978  3.51       0.56   \n1                 25.0                  67.0   0.9968  3.20       0.68   \n2                 15.0                  54.0   0.9970  3.26       0.65   \n\n   alcohol  quality  \n0      9.4        5  \n1      9.8        5  \n2      9.8        5  ",
      "text/html": "<div>\n<style scoped>\n    .dataframe tbody tr th:only-of-type {\n        vertical-align: middle;\n    }\n\n    .dataframe tbody tr th {\n        vertical-align: top;\n    }\n\n    .dataframe thead th {\n        text-align: right;\n    }\n</style>\n<table border=\"1\" class=\"dataframe\">\n  <thead>\n    <tr style=\"text-align: right;\">\n      <th></th>\n      <th>fixed acidity</th>\n      <th>volatile acidity</th>\n      <th>citric acid</th>\n      <th>residual sugar</th>\n      <th>chlorides</th>\n      <th>free sulfur dioxide</th>\n      <th>total sulfur dioxide</th>\n      <th>density</th>\n      <th>pH</th>\n      <th>sulphates</th>\n      <th>alcohol</th>\n      <th>quality</th>\n    </tr>\n  </thead>\n  <tbody>\n    <tr>\n      <th>0</th>\n      <td>7.4</td>\n      <td>0.70</td>\n      <td>0.00</td>\n      <td>1.9</td>\n      <td>0.076</td>\n      <td>11.0</td>\n      <td>34.0</td>\n      <td>0.9978</td>\n      <td>3.51</td>\n      <td>0.56</td>\n      <td>9.4</td>\n      <td>5</td>\n    </tr>\n    <tr>\n      <th>1</th>\n      <td>7.8</td>\n      <td>0.88</td>\n      <td>0.00</td>\n      <td>2.6</td>\n      <td>0.098</td>\n      <td>25.0</td>\n      <td>67.0</td>\n      <td>0.9968</td>\n      <td>3.20</td>\n      <td>0.68</td>\n      <td>9.8</td>\n      <td>5</td>\n    </tr>\n    <tr>\n      <th>2</th>\n      <td>7.8</td>\n      <td>0.76</td>\n      <td>0.04</td>\n      <td>2.3</td>\n      <td>0.092</td>\n      <td>15.0</td>\n      <td>54.0</td>\n      <td>0.9970</td>\n      <td>3.26</td>\n      <td>0.65</td>\n      <td>9.8</td>\n      <td>5</td>\n    </tr>\n  </tbody>\n</table>\n</div>"
     },
     "metadata": {},
     "output_type": "execute_result",
     "execution_count": 2
    }
   ],
   "source": [
    "onlineMode = False;\n",
    "\n",
    "if onlineMode:\n",
    "    dataset_folder_url = \"http://downloads.finalcraft.com.br/tcc/Wines\";\n",
    "else:\n",
    "    dataset_folder_url = \"C:/Users/Petrus/Desktop/UNESP/Docs 2016-2020/2019/Segundo Semestre/TCC2/TCC BigData Analytics/Treino5-Special\";\n",
    "\n",
    "dataset_file = dataset_folder_url + '/winequality.csv';\n",
    "\n",
    "analytics.read_csv(dataset_file);\n",
    "\n",
    "analytics.head(3)"
   ]
  },
  {
   "cell_type": "markdown",
   "metadata": {},
   "source": [
    "### Descrevendo o DataFrame"
   ]
  },
  {
   "cell_type": "code",
   "execution_count": 3,
   "metadata": {
    "pycharm": {
     "is_executing": false,
     "name": "#%% \n"
    }
   },
   "outputs": [
    {
     "data": {
      "text/plain": "       fixed acidity  volatile acidity  citric acid  residual sugar  \\\ncount    1599.000000       1599.000000  1599.000000     1599.000000   \nmean        8.319637          0.527821     0.270976        2.538806   \nstd         1.741096          0.179060     0.194801        1.409928   \nmin         4.600000          0.120000     0.000000        0.900000   \n20%         7.000000          0.370000     0.070000        1.800000   \n40%         7.600000          0.470000     0.210000        2.100000   \n50%         7.900000          0.520000     0.260000        2.200000   \n60%         8.300000          0.570000     0.320000        2.300000   \n80%         9.700000          0.660000     0.460000        2.700000   \nmax        15.900000          1.580000     1.000000       15.500000   \n\n         chlorides  free sulfur dioxide  total sulfur dioxide      density  \\\ncount  1599.000000          1599.000000           1599.000000  1599.000000   \nmean      0.087467            15.874922             46.467792     0.996747   \nstd       0.047065            10.460157             32.895324     0.001887   \nmin       0.012000             1.000000              6.000000     0.990070   \n20%       0.067000             6.000000             19.000000     0.995340   \n40%       0.076000            11.000000             30.000000     0.996300   \n50%       0.079000            14.000000             38.000000     0.996750   \n60%       0.082000            16.000000             45.800000     0.997156   \n80%       0.094000            24.000000             69.000000     0.998174   \nmax       0.611000            72.000000            289.000000     1.003690   \n\n                pH    sulphates      alcohol  \ncount  1599.000000  1599.000000  1599.000000  \nmean      3.311113     0.658149    10.422983  \nstd       0.154386     0.169507     1.065668  \nmin       2.740000     0.330000     8.400000  \n20%       3.180000     0.540000     9.500000  \n40%       3.280000     0.590000     9.900000  \n50%       3.310000     0.620000    10.200000  \n60%       3.350000     0.650000    10.500000  \n80%       3.424000     0.760000    11.300000  \nmax       4.010000     2.000000    14.900000  ",
      "text/html": "<div>\n<style scoped>\n    .dataframe tbody tr th:only-of-type {\n        vertical-align: middle;\n    }\n\n    .dataframe tbody tr th {\n        vertical-align: top;\n    }\n\n    .dataframe thead th {\n        text-align: right;\n    }\n</style>\n<table border=\"1\" class=\"dataframe\">\n  <thead>\n    <tr style=\"text-align: right;\">\n      <th></th>\n      <th>fixed acidity</th>\n      <th>volatile acidity</th>\n      <th>citric acid</th>\n      <th>residual sugar</th>\n      <th>chlorides</th>\n      <th>free sulfur dioxide</th>\n      <th>total sulfur dioxide</th>\n      <th>density</th>\n      <th>pH</th>\n      <th>sulphates</th>\n      <th>alcohol</th>\n    </tr>\n  </thead>\n  <tbody>\n    <tr>\n      <th>count</th>\n      <td>1599.000000</td>\n      <td>1599.000000</td>\n      <td>1599.000000</td>\n      <td>1599.000000</td>\n      <td>1599.000000</td>\n      <td>1599.000000</td>\n      <td>1599.000000</td>\n      <td>1599.000000</td>\n      <td>1599.000000</td>\n      <td>1599.000000</td>\n      <td>1599.000000</td>\n    </tr>\n    <tr>\n      <th>mean</th>\n      <td>8.319637</td>\n      <td>0.527821</td>\n      <td>0.270976</td>\n      <td>2.538806</td>\n      <td>0.087467</td>\n      <td>15.874922</td>\n      <td>46.467792</td>\n      <td>0.996747</td>\n      <td>3.311113</td>\n      <td>0.658149</td>\n      <td>10.422983</td>\n    </tr>\n    <tr>\n      <th>std</th>\n      <td>1.741096</td>\n      <td>0.179060</td>\n      <td>0.194801</td>\n      <td>1.409928</td>\n      <td>0.047065</td>\n      <td>10.460157</td>\n      <td>32.895324</td>\n      <td>0.001887</td>\n      <td>0.154386</td>\n      <td>0.169507</td>\n      <td>1.065668</td>\n    </tr>\n    <tr>\n      <th>min</th>\n      <td>4.600000</td>\n      <td>0.120000</td>\n      <td>0.000000</td>\n      <td>0.900000</td>\n      <td>0.012000</td>\n      <td>1.000000</td>\n      <td>6.000000</td>\n      <td>0.990070</td>\n      <td>2.740000</td>\n      <td>0.330000</td>\n      <td>8.400000</td>\n    </tr>\n    <tr>\n      <th>20%</th>\n      <td>7.000000</td>\n      <td>0.370000</td>\n      <td>0.070000</td>\n      <td>1.800000</td>\n      <td>0.067000</td>\n      <td>6.000000</td>\n      <td>19.000000</td>\n      <td>0.995340</td>\n      <td>3.180000</td>\n      <td>0.540000</td>\n      <td>9.500000</td>\n    </tr>\n    <tr>\n      <th>40%</th>\n      <td>7.600000</td>\n      <td>0.470000</td>\n      <td>0.210000</td>\n      <td>2.100000</td>\n      <td>0.076000</td>\n      <td>11.000000</td>\n      <td>30.000000</td>\n      <td>0.996300</td>\n      <td>3.280000</td>\n      <td>0.590000</td>\n      <td>9.900000</td>\n    </tr>\n    <tr>\n      <th>50%</th>\n      <td>7.900000</td>\n      <td>0.520000</td>\n      <td>0.260000</td>\n      <td>2.200000</td>\n      <td>0.079000</td>\n      <td>14.000000</td>\n      <td>38.000000</td>\n      <td>0.996750</td>\n      <td>3.310000</td>\n      <td>0.620000</td>\n      <td>10.200000</td>\n    </tr>\n    <tr>\n      <th>60%</th>\n      <td>8.300000</td>\n      <td>0.570000</td>\n      <td>0.320000</td>\n      <td>2.300000</td>\n      <td>0.082000</td>\n      <td>16.000000</td>\n      <td>45.800000</td>\n      <td>0.997156</td>\n      <td>3.350000</td>\n      <td>0.650000</td>\n      <td>10.500000</td>\n    </tr>\n    <tr>\n      <th>80%</th>\n      <td>9.700000</td>\n      <td>0.660000</td>\n      <td>0.460000</td>\n      <td>2.700000</td>\n      <td>0.094000</td>\n      <td>24.000000</td>\n      <td>69.000000</td>\n      <td>0.998174</td>\n      <td>3.424000</td>\n      <td>0.760000</td>\n      <td>11.300000</td>\n    </tr>\n    <tr>\n      <th>max</th>\n      <td>15.900000</td>\n      <td>1.580000</td>\n      <td>1.000000</td>\n      <td>15.500000</td>\n      <td>0.611000</td>\n      <td>72.000000</td>\n      <td>289.000000</td>\n      <td>1.003690</td>\n      <td>4.010000</td>\n      <td>2.000000</td>\n      <td>14.900000</td>\n    </tr>\n  </tbody>\n</table>\n</div>"
     },
     "metadata": {},
     "output_type": "execute_result",
     "execution_count": 3
    }
   ],
   "source": [
    "analytics.descreverDataFrame()"
   ]
  },
  {
   "cell_type": "code",
   "execution_count": 4,
   "outputs": [
    {
     "data": {
      "text/plain": "Index(['fixed acidity', 'volatile acidity', 'citric acid', 'residual sugar',\n       'chlorides', 'free sulfur dioxide', 'total sulfur dioxide', 'density',\n       'pH', 'sulphates', 'alcohol', 'quality'],\n      dtype='object')"
     },
     "metadata": {},
     "output_type": "execute_result",
     "execution_count": 4
    }
   ],
   "source": [
    "analytics.columns()"
   ],
   "metadata": {
    "collapsed": false,
    "pycharm": {
     "name": "#%% \n",
     "is_executing": false
    }
   }
  },
  {
   "cell_type": "code",
   "execution_count": 5,
   "outputs": [
    {
     "data": {
      "text/plain": "<matplotlib.axes._subplots.AxesSubplot at 0x228d4c2ccc0>"
     },
     "metadata": {},
     "output_type": "execute_result",
     "execution_count": 5
    },
    {
     "data": {
      "text/plain": "<Figure size 432x288 with 1 Axes>",
      "image/png": "[encoded data removed]"
     },
     "metadata": {
      "needs_background": "light"
     },
     "output_type": "display_data"
    }
   ],
   "source": [
    "analytics.plotar('quality')\n"
   ],
   "metadata": {
    "collapsed": false,
    "pycharm": {
     "name": "#%%\n",
     "is_executing": false
    }
   }
  },
  {
   "cell_type": "code",
   "execution_count": 6,
   "outputs": [
    {
     "data": {
      "text/plain": "count    1599.000000\nmean        5.636023\nstd         0.807569\nmin         3.000000\n20%         5.000000\n40%         5.000000\n50%         6.000000\n60%         6.000000\n80%         6.000000\nmax         8.000000\nName: quality, dtype: float64"
     },
     "metadata": {},
     "output_type": "execute_result",
     "execution_count": 6
    }
   ],
   "source": [
    "analytics.descreverAtributo('quality')"
   ],
   "metadata": {
    "collapsed": false,
    "pycharm": {
     "name": "#%% \n",
     "is_executing": false
    }
   }
  },
  {
   "cell_type": "code",
   "execution_count": 7,
   "outputs": [
    {
     "data": {
      "text/plain": "fixed acidity           False\nvolatile acidity        False\ncitric acid             False\nresidual sugar          False\nchlorides               False\nfree sulfur dioxide     False\ntotal sulfur dioxide    False\ndensity                 False\npH                      False\nsulphates               False\nalcohol                 False\nquality                 False\ndtype: bool"
     },
     "metadata": {},
     "output_type": "execute_result",
     "execution_count": 7
    }
   ],
   "source": [
    "analytics.atributosComVariaveisNulas()"
   ],
   "metadata": {
    "collapsed": false,
    "pycharm": {
     "name": "#%%\n",
     "is_executing": false
    }
   }
  },
  {
   "cell_type": "markdown",
   "metadata": {},
   "source": [
    "### Selecionando os atributos"
   ]
  },
  {
   "cell_type": "code",
   "execution_count": 8,
   "metadata": {
    "pycharm": {
     "is_executing": false,
     "name": "#%%\n"
    }
   },
   "outputs": [
    {
     "name": "stdout",
     "text": [
      "Atributos de precisão definidos para:\n",
      "-->  fixed acidity\n",
      "-->  volatile acidity\n",
      "-->  citric acid\n",
      "-->  residual sugar\n",
      "-->  chlorides\n",
      "-->  free sulfur dioxide\n",
      "-->  total sulfur dioxide\n",
      "-->  density\n",
      "-->  pH\n",
      "-->  sulphates\n",
      "-->  alcohol\n",
      "Total de 11 atributos.\n"
     ],
     "output_type": "stream"
    }
   ],
   "source": [
    "atributosDePrecisao = ['fixed acidity', 'volatile acidity', 'citric acid', 'residual sugar', 'chlorides', 'free sulfur dioxide', 'total sulfur dioxide', 'density', 'pH', 'sulphates','alcohol']; #Maximum Retail Price (Preço MAXIMO de um PRoduto)\n",
    "\n",
    "analytics.definirAtributosDePrecisao(atributosDePrecisao);"
   ]
  },
  {
   "cell_type": "code",
   "execution_count": 9,
   "metadata": {
    "pycharm": {
     "is_executing": false,
     "name": "#%%\n"
    }
   },
   "outputs": [
    {
     "name": "stdout",
     "text": [
      "Definindo atributo desejado para: quality\n"
     ],
     "output_type": "stream"
    }
   ],
   "source": [
    "analytics.definirAtributoDesejado('quality');"
   ]
  },
  {
   "cell_type": "markdown",
   "metadata": {},
   "source": [
    "### Definindo porcentagem de Teste e Aplicando Regressão Linear"
   ]
  },
  {
   "cell_type": "code",
   "execution_count": 10,
   "metadata": {
    "pycharm": {
     "is_executing": false,
     "name": "#%%\n"
    }
   },
   "outputs": [
    {
     "name": "stdout",
     "text": [
      "Porcentagem de Teste definido para: 20%\n",
      "Porcentagem de Treino definido para: 80%\n",
      "Iniciando regressão Linear!\n",
      "Regressão Linear aplicada com sucesso!\n"
     ],
     "output_type": "stream"
    }
   ],
   "source": [
    "analytics.definirPorcentagemDeTeste(20);\n",
    "analytics.aplicarRegressaoLinear();"
   ]
  },
  {
   "cell_type": "markdown",
   "metadata": {},
   "source": [
    "## Observando Resultados\n",
    "\n",
    "Recomendavel conferir na API, tem mais detalhes sobre como é feito cada um desses métodos."
   ]
  },
  {
   "cell_type": "markdown",
   "source": [
    "#### Peso das variáveis!"
   ],
   "metadata": {
    "collapsed": false
   }
  },
  {
   "cell_type": "code",
   "execution_count": 11,
   "outputs": [
    {
     "data": {
      "text/plain": "                       0  Coefficient\n0          fixed acidity     0.009114\n1       volatile acidity    -1.125719\n2            citric acid    -0.079724\n3         residual sugar     0.005034\n4              chlorides    -1.995110\n5    free sulfur dioxide     0.006218\n6   total sulfur dioxide    -0.003712\n7                density   -13.162219\n8                     pH    -0.491863\n9              sulphates     0.858451\n10               alcohol     0.267721",
      "text/html": "<div>\n<style scoped>\n    .dataframe tbody tr th:only-of-type {\n        vertical-align: middle;\n    }\n\n    .dataframe tbody tr th {\n        vertical-align: top;\n    }\n\n    .dataframe thead th {\n        text-align: right;\n    }\n</style>\n<table border=\"1\" class=\"dataframe\">\n  <thead>\n    <tr style=\"text-align: right;\">\n      <th></th>\n      <th>0</th>\n      <th>Coefficient</th>\n    </tr>\n  </thead>\n  <tbody>\n    <tr>\n      <th>0</th>\n      <td>fixed acidity</td>\n      <td>0.009114</td>\n    </tr>\n    <tr>\n      <th>1</th>\n      <td>volatile acidity</td>\n      <td>-1.125719</td>\n    </tr>\n    <tr>\n      <th>2</th>\n      <td>citric acid</td>\n      <td>-0.079724</td>\n    </tr>\n    <tr>\n      <th>3</th>\n      <td>residual sugar</td>\n      <td>0.005034</td>\n    </tr>\n    <tr>\n      <th>4</th>\n      <td>chlorides</td>\n      <td>-1.995110</td>\n    </tr>\n    <tr>\n      <th>5</th>\n      <td>free sulfur dioxide</td>\n      <td>0.006218</td>\n    </tr>\n    <tr>\n      <th>6</th>\n      <td>total sulfur dioxide</td>\n      <td>-0.003712</td>\n    </tr>\n    <tr>\n      <th>7</th>\n      <td>density</td>\n      <td>-13.162219</td>\n    </tr>\n    <tr>\n      <th>8</th>\n      <td>pH</td>\n      <td>-0.491863</td>\n    </tr>\n    <tr>\n      <th>9</th>\n      <td>sulphates</td>\n      <td>0.858451</td>\n    </tr>\n    <tr>\n      <th>10</th>\n      <td>alcohol</td>\n      <td>0.267721</td>\n    </tr>\n  </tbody>\n</table>\n</div>"
     },
     "metadata": {},
     "output_type": "execute_result",
     "execution_count": 11
    }
   ],
   "source": [
    "analytics.calcularCoeficientesDePesos()\n",
    "\n"
   ],
   "metadata": {
    "collapsed": false,
    "pycharm": {
     "name": "#%%\n",
     "is_executing": false
    }
   }
  },
  {
   "cell_type": "markdown",
   "source": [
    "#### Comparando predito com real"
   ],
   "metadata": {
    "collapsed": false,
    "pycharm": {
     "name": "#%% md\n"
    }
   }
  },
  {
   "cell_type": "code",
   "execution_count": 12,
   "outputs": [
    {
     "data": {
      "text/plain": "      Atual  Predição\n866       6  6.116037\n564       6  6.225295\n1459      7  6.645672\n219       5  5.023010\n58        5  5.314324\n1208      7  6.163186\n1082      6  5.446424\n727       5  5.366297\n911       6  6.043367\n563       6  5.731293\n803       6  5.343116\n936       6  6.251903\n1475      7  6.575891\n1253      5  5.171541\n203       5  5.321034",
      "text/html": "<div>\n<style scoped>\n    .dataframe tbody tr th:only-of-type {\n        vertical-align: middle;\n    }\n\n    .dataframe tbody tr th {\n        vertical-align: top;\n    }\n\n    .dataframe thead th {\n        text-align: right;\n    }\n</style>\n<table border=\"1\" class=\"dataframe\">\n  <thead>\n    <tr style=\"text-align: right;\">\n      <th></th>\n      <th>Atual</th>\n      <th>Predição</th>\n    </tr>\n  </thead>\n  <tbody>\n    <tr>\n      <th>866</th>\n      <td>6</td>\n      <td>6.116037</td>\n    </tr>\n    <tr>\n      <th>564</th>\n      <td>6</td>\n      <td>6.225295</td>\n    </tr>\n    <tr>\n      <th>1459</th>\n      <td>7</td>\n      <td>6.645672</td>\n    </tr>\n    <tr>\n      <th>219</th>\n      <td>5</td>\n      <td>5.023010</td>\n    </tr>\n    <tr>\n      <th>58</th>\n      <td>5</td>\n      <td>5.314324</td>\n    </tr>\n    <tr>\n      <th>1208</th>\n      <td>7</td>\n      <td>6.163186</td>\n    </tr>\n    <tr>\n      <th>1082</th>\n      <td>6</td>\n      <td>5.446424</td>\n    </tr>\n    <tr>\n      <th>727</th>\n      <td>5</td>\n      <td>5.366297</td>\n    </tr>\n    <tr>\n      <th>911</th>\n      <td>6</td>\n      <td>6.043367</td>\n    </tr>\n    <tr>\n      <th>563</th>\n      <td>6</td>\n      <td>5.731293</td>\n    </tr>\n    <tr>\n      <th>803</th>\n      <td>6</td>\n      <td>5.343116</td>\n    </tr>\n    <tr>\n      <th>936</th>\n      <td>6</td>\n      <td>6.251903</td>\n    </tr>\n    <tr>\n      <th>1475</th>\n      <td>7</td>\n      <td>6.575891</td>\n    </tr>\n    <tr>\n      <th>1253</th>\n      <td>5</td>\n      <td>5.171541</td>\n    </tr>\n    <tr>\n      <th>203</th>\n      <td>5</td>\n      <td>5.321034</td>\n    </tr>\n  </tbody>\n</table>\n</div>"
     },
     "metadata": {},
     "output_type": "execute_result",
     "execution_count": 12
    }
   ],
   "source": [
    "dfCompar = analytics.compararPredicao();\n",
    "dfCompar.head(15)"
   ],
   "metadata": {
    "collapsed": false,
    "pycharm": {
     "name": "#%%\n",
     "is_executing": false
    }
   }
  },
  {
   "cell_type": "code",
   "execution_count": 13,
   "outputs": [
    {
     "data": {
      "text/plain": "<Figure size 720x576 with 1 Axes>",
      "image/png": "[encoded data removed]"
     },
     "metadata": {
      "needs_background": "light"
     },
     "output_type": "display_data"
    }
   ],
   "source": [
    "import matplotlib.pyplot as plt\n",
    "\n",
    "#Pegar posição de 0 até a 20 e plotar ela!\n",
    "dfCompar.iloc[0:20].plot(kind='bar',figsize=(10,8))\n",
    "plt.grid(which='major', linestyle='-', linewidth='0.5', color='green')\n",
    "plt.grid(which='minor', linestyle=':', linewidth='0.5', color='black')\n",
    "plt.show()\n"
   ],
   "metadata": {
    "collapsed": false,
    "pycharm": {
     "name": "#%%\n",
     "is_executing": false
    }
   }
  },
  {
   "cell_type": "markdown",
   "metadata": {},
   "source": [
    "#### Calculo de Eficiencia do Algorítimo"
   ]
  },
  {
   "cell_type": "code",
   "execution_count": 14,
   "metadata": {
    "pycharm": {
     "is_executing": false,
     "name": "#%%\n"
    }
   },
   "outputs": [
    {
     "name": "stdout",
     "text": [
      "Erro médio Absoluto:  0.4725643999749007\n",
      "Erro médio Quadrático:  0.3625542514204887\n",
      "SQRT do Erro médio Quadrático:  0.6021247806065523\n"
     ],
     "output_type": "stream"
    }
   ],
   "source": [
    "print(\"Erro médio Absoluto: \", analytics.calcularErroMedioAbsoluto())\n",
    "print(\"Erro médio Quadrático: \", analytics.calcularErroMedioQuadratico())\n",
    "print(\"SQRT do Erro médio Quadrático: \", analytics.calcularRaizQuadradadaDoErroMedioQuadratico())\n"
   ]
  }
 ],
 "metadata": {
  "colab": {
   "collapsed_sections": [],
   "name": "Live Regressão.ipynb",
   "provenance": [],
   "version": "0.3.2"
  },
  "kernelspec": {
   "display_name": "Python 3",
   "language": "python",
   "name": "python3"
  },
  "language_info": {
   "codemirror_mode": {
    "name": "ipython",
    "version": 3
   },
   "file_extension": ".py",
   "mimetype": "text/x-python",
   "name": "python",
   "nbconvert_exporter": "python",
   "pygments_lexer": "ipython3",
   "version": "3.7.3"
  },
  "pycharm": {
   "stem_cell": {
    "cell_type": "raw",
    "source": [],
    "metadata": {
     "collapsed": false
    }
   }
  }
 },
 "nbformat": 4,
 "nbformat_minor": 1
}