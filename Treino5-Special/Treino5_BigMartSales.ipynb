{
 "cells": [
  {
   "cell_type": "markdown",
   "metadata": {},
   "source": [
    "# FCT Unesp - TCC Treino 5\n",
    "Aluno: Pétrus Antonio Bárbosa Pradella\n",
    "\n",
    "TCC2 - Treinando análise preditiva para dados de transações comerciais.\n",
    "\n",
    "Teste 1\n",
    "    - DataSet Utilizado: BigMart Sales Data\n",
    "    - Fonte: Kaggle\n",
    "    - Link: https://www.kaggle.com/brijbhushannanda1979/bigmart-sales-data\n",
    "    \n",
    "Caracteristicas gerais do Dataset:\n",
    "\n",
    "    - Número de Instancias: 14204\n",
    "    - Número de Atributos: 11\n",
    "    - Estatisticas de Uso em 18/09/2019 (kaggle):\n",
    "        23,852 views\n",
    "        5,934 downloads"
   ]
  },
  {
   "cell_type": "markdown",
   "metadata": {},
   "source": [
    "### Importando as bibliotecas necessárias"
   ]
  },
  {
   "cell_type": "code",
   "execution_count": 1,
   "metadata": {
    "pycharm": {
     "is_executing": false,
     "name": "#%%\n"
    }
   },
   "outputs": [
    {
     "data": {
      "text/plain": "'2.0.1z'"
     },
     "metadata": {},
     "output_type": "execute_result",
     "execution_count": 1
    }
   ],
   "source": [
    "from myownapi.AnalyticsLR import AnalyticsLR;\n",
    "\n",
    "analytics = AnalyticsLR();\n",
    "\n",
    "analytics.getVersion()\n"
   ]
  },
  {
   "cell_type": "markdown",
   "metadata": {},
   "source": [
    "### Carregando a base de dados"
   ]
  },
  {
   "cell_type": "code",
   "execution_count": 2,
   "metadata": {
    "pycharm": {
     "is_executing": false,
     "name": "#%%\n"
    }
   },
   "outputs": [
    {
     "name": "stdout",
     "text": [
      "Iniciando leitura do arquivo:\n",
      " --> C:/Users/Petrus/Desktop/UNESP/Docs 2016-2020/2019/Segundo Semestre/TCC2/TCC BigData Analytics/Treino5-Special/Train.csv\n",
      "Arquivo lido com sucesso!\n"
     ],
     "output_type": "stream"
    },
    {
     "data": {
      "text/plain": "  Item_Identifier  Item_Weight Item_Fat_Content  Item_Visibility    Item_Type  \\\n0           FDA15         9.30          Low Fat         0.016047        Dairy   \n1           DRC01         5.92          Regular         0.019278  Soft Drinks   \n2           FDN15        17.50          Low Fat         0.016760         Meat   \n\n   Item_MRP Outlet_Identifier  Outlet_Establishment_Year Outlet_Size  \\\n0  249.8092            OUT049                       1999      Medium   \n1   48.2692            OUT018                       2009      Medium   \n2  141.6180            OUT049                       1999      Medium   \n\n  Outlet_Location_Type        Outlet_Type  Item_Outlet_Sales  \n0               Tier 1  Supermarket Type1          3735.1380  \n1               Tier 3  Supermarket Type2           443.4228  \n2               Tier 1  Supermarket Type1          2097.2700  ",
      "text/html": "<div>\n<style scoped>\n    .dataframe tbody tr th:only-of-type {\n        vertical-align: middle;\n    }\n\n    .dataframe tbody tr th {\n        vertical-align: top;\n    }\n\n    .dataframe thead th {\n        text-align: right;\n    }\n</style>\n<table border=\"1\" class=\"dataframe\">\n  <thead>\n    <tr style=\"text-align: right;\">\n      <th></th>\n      <th>Item_Identifier</th>\n      <th>Item_Weight</th>\n      <th>Item_Fat_Content</th>\n      <th>Item_Visibility</th>\n      <th>Item_Type</th>\n      <th>Item_MRP</th>\n      <th>Outlet_Identifier</th>\n      <th>Outlet_Establishment_Year</th>\n      <th>Outlet_Size</th>\n      <th>Outlet_Location_Type</th>\n      <th>Outlet_Type</th>\n      <th>Item_Outlet_Sales</th>\n    </tr>\n  </thead>\n  <tbody>\n    <tr>\n      <th>0</th>\n      <td>FDA15</td>\n      <td>9.30</td>\n      <td>Low Fat</td>\n      <td>0.016047</td>\n      <td>Dairy</td>\n      <td>249.8092</td>\n      <td>OUT049</td>\n      <td>1999</td>\n      <td>Medium</td>\n      <td>Tier 1</td>\n      <td>Supermarket Type1</td>\n      <td>3735.1380</td>\n    </tr>\n    <tr>\n      <th>1</th>\n      <td>DRC01</td>\n      <td>5.92</td>\n      <td>Regular</td>\n      <td>0.019278</td>\n      <td>Soft Drinks</td>\n      <td>48.2692</td>\n      <td>OUT018</td>\n      <td>2009</td>\n      <td>Medium</td>\n      <td>Tier 3</td>\n      <td>Supermarket Type2</td>\n      <td>443.4228</td>\n    </tr>\n    <tr>\n      <th>2</th>\n      <td>FDN15</td>\n      <td>17.50</td>\n      <td>Low Fat</td>\n      <td>0.016760</td>\n      <td>Meat</td>\n      <td>141.6180</td>\n      <td>OUT049</td>\n      <td>1999</td>\n      <td>Medium</td>\n      <td>Tier 1</td>\n      <td>Supermarket Type1</td>\n      <td>2097.2700</td>\n    </tr>\n  </tbody>\n</table>\n</div>"
     },
     "metadata": {},
     "output_type": "execute_result",
     "execution_count": 2
    }
   ],
   "source": [
    "onlineMode = False;\n",
    "\n",
    "if onlineMode:\n",
    "    dataset_folder_url = \"http://downloads.finalcraft.com.br/tcc/BigMartSalesData\";\n",
    "else:\n",
    "    dataset_folder_url = \"C:/Users/Petrus/Desktop/UNESP/Docs 2016-2020/2019/Segundo Semestre/TCC2/TCC BigData Analytics/Treino5-Special\";\n",
    "\n",
    "dataset_file = dataset_folder_url + '/Train.csv';\n",
    "\n",
    "analytics.read_csv(dataset_file);\n",
    "\n",
    "analytics.head(3)"
   ]
  },
  {
   "cell_type": "markdown",
   "metadata": {},
   "source": [
    "### Descrevendo o DataFrame"
   ]
  },
  {
   "cell_type": "code",
   "execution_count": 3,
   "metadata": {
    "pycharm": {
     "is_executing": false,
     "name": "#%% \n"
    }
   },
   "outputs": [
    {
     "name": "stdout",
     "text": [
      "Variáveis nulas foram encontradas!!\n",
      "[Criando uma cópia do DataFrame sem as variáveis nulas]\n"
     ],
     "output_type": "stream"
    },
    {
     "data": {
      "text/plain": "       Item_Identifier  Item_Weight Item_Fat_Content  Item_Visibility  \\\ncount             8523  7060.000000             8523      8523.000000   \nunique            1559          NaN                5              NaN   \ntop              FDG33          NaN          Low Fat              NaN   \nfreq                10          NaN             5089              NaN   \nmean               NaN    12.857645              NaN         0.066132   \nstd                NaN     4.643456              NaN         0.051598   \nmin                NaN     4.555000              NaN         0.000000   \n20%                NaN     8.020000              NaN         0.022558   \n40%                NaN    11.100000              NaN         0.041754   \n50%                NaN    12.600000              NaN         0.053931   \n60%                NaN    14.500000              NaN         0.067958   \n80%                NaN    17.700000              NaN         0.106924   \nmax                NaN    21.350000              NaN         0.328391   \n\n                    Item_Type     Item_MRP Outlet_Identifier Outlet_Size  \\\ncount                    8523  8523.000000              8523        6113   \nunique                     16          NaN                10           3   \ntop     Fruits and Vegetables          NaN            OUT027      Medium   \nfreq                     1232          NaN               935        2793   \nmean                      NaN   140.992782               NaN         NaN   \nstd                       NaN    62.275067               NaN         NaN   \nmin                       NaN    31.290000               NaN         NaN   \n20%                       NaN    84.689240               NaN         NaN   \n40%                       NaN   118.765040               NaN         NaN   \n50%                       NaN   143.012800               NaN         NaN   \n60%                       NaN   159.432520               NaN         NaN   \n80%                       NaN   194.485720               NaN         NaN   \nmax                       NaN   266.888400               NaN         NaN   \n\n       Outlet_Location_Type        Outlet_Type  Item_Outlet_Sales  \ncount                  8523               8523        8523.000000  \nunique                    3                  4                NaN  \ntop                  Tier 3  Supermarket Type1                NaN  \nfreq                   3350               5577                NaN  \nmean                    NaN                NaN        2181.288914  \nstd                     NaN                NaN        1706.499616  \nmin                     NaN                NaN          33.290000  \n20%                     NaN                NaN         666.465800  \n40%                     NaN                NaN        1402.174800  \n50%                     NaN                NaN        1794.331000  \n60%                     NaN                NaN        2257.328320  \n80%                     NaN                NaN        3453.504600  \nmax                     NaN                NaN       13086.964800  ",
      "text/html": "<div>\n<style scoped>\n    .dataframe tbody tr th:only-of-type {\n        vertical-align: middle;\n    }\n\n    .dataframe tbody tr th {\n        vertical-align: top;\n    }\n\n    .dataframe thead th {\n        text-align: right;\n    }\n</style>\n<table border=\"1\" class=\"dataframe\">\n  <thead>\n    <tr style=\"text-align: right;\">\n      <th></th>\n      <th>Item_Identifier</th>\n      <th>Item_Weight</th>\n      <th>Item_Fat_Content</th>\n      <th>Item_Visibility</th>\n      <th>Item_Type</th>\n      <th>Item_MRP</th>\n      <th>Outlet_Identifier</th>\n      <th>Outlet_Size</th>\n      <th>Outlet_Location_Type</th>\n      <th>Outlet_Type</th>\n      <th>Item_Outlet_Sales</th>\n    </tr>\n  </thead>\n  <tbody>\n    <tr>\n      <th>count</th>\n      <td>8523</td>\n      <td>7060.000000</td>\n      <td>8523</td>\n      <td>8523.000000</td>\n      <td>8523</td>\n      <td>8523.000000</td>\n      <td>8523</td>\n      <td>6113</td>\n      <td>8523</td>\n      <td>8523</td>\n      <td>8523.000000</td>\n    </tr>\n    <tr>\n      <th>unique</th>\n      <td>1559</td>\n      <td>NaN</td>\n      <td>5</td>\n      <td>NaN</td>\n      <td>16</td>\n      <td>NaN</td>\n      <td>10</td>\n      <td>3</td>\n      <td>3</td>\n      <td>4</td>\n      <td>NaN</td>\n    </tr>\n    <tr>\n      <th>top</th>\n      <td>FDG33</td>\n      <td>NaN</td>\n      <td>Low Fat</td>\n      <td>NaN</td>\n      <td>Fruits and Vegetables</td>\n      <td>NaN</td>\n      <td>OUT027</td>\n      <td>Medium</td>\n      <td>Tier 3</td>\n      <td>Supermarket Type1</td>\n      <td>NaN</td>\n    </tr>\n    <tr>\n      <th>freq</th>\n      <td>10</td>\n      <td>NaN</td>\n      <td>5089</td>\n      <td>NaN</td>\n      <td>1232</td>\n      <td>NaN</td>\n      <td>935</td>\n      <td>2793</td>\n      <td>3350</td>\n      <td>5577</td>\n      <td>NaN</td>\n    </tr>\n    <tr>\n      <th>mean</th>\n      <td>NaN</td>\n      <td>12.857645</td>\n      <td>NaN</td>\n      <td>0.066132</td>\n      <td>NaN</td>\n      <td>140.992782</td>\n      <td>NaN</td>\n      <td>NaN</td>\n      <td>NaN</td>\n      <td>NaN</td>\n      <td>2181.288914</td>\n    </tr>\n    <tr>\n      <th>std</th>\n      <td>NaN</td>\n      <td>4.643456</td>\n      <td>NaN</td>\n      <td>0.051598</td>\n      <td>NaN</td>\n      <td>62.275067</td>\n      <td>NaN</td>\n      <td>NaN</td>\n      <td>NaN</td>\n      <td>NaN</td>\n      <td>1706.499616</td>\n    </tr>\n    <tr>\n      <th>min</th>\n      <td>NaN</td>\n      <td>4.555000</td>\n      <td>NaN</td>\n      <td>0.000000</td>\n      <td>NaN</td>\n      <td>31.290000</td>\n      <td>NaN</td>\n      <td>NaN</td>\n      <td>NaN</td>\n      <td>NaN</td>\n      <td>33.290000</td>\n    </tr>\n    <tr>\n      <th>20%</th>\n      <td>NaN</td>\n      <td>8.020000</td>\n      <td>NaN</td>\n      <td>0.022558</td>\n      <td>NaN</td>\n      <td>84.689240</td>\n      <td>NaN</td>\n      <td>NaN</td>\n      <td>NaN</td>\n      <td>NaN</td>\n      <td>666.465800</td>\n    </tr>\n    <tr>\n      <th>40%</th>\n      <td>NaN</td>\n      <td>11.100000</td>\n      <td>NaN</td>\n      <td>0.041754</td>\n      <td>NaN</td>\n      <td>118.765040</td>\n      <td>NaN</td>\n      <td>NaN</td>\n      <td>NaN</td>\n      <td>NaN</td>\n      <td>1402.174800</td>\n    </tr>\n    <tr>\n      <th>50%</th>\n      <td>NaN</td>\n      <td>12.600000</td>\n      <td>NaN</td>\n      <td>0.053931</td>\n      <td>NaN</td>\n      <td>143.012800</td>\n      <td>NaN</td>\n      <td>NaN</td>\n      <td>NaN</td>\n      <td>NaN</td>\n      <td>1794.331000</td>\n    </tr>\n    <tr>\n      <th>60%</th>\n      <td>NaN</td>\n      <td>14.500000</td>\n      <td>NaN</td>\n      <td>0.067958</td>\n      <td>NaN</td>\n      <td>159.432520</td>\n      <td>NaN</td>\n      <td>NaN</td>\n      <td>NaN</td>\n      <td>NaN</td>\n      <td>2257.328320</td>\n    </tr>\n    <tr>\n      <th>80%</th>\n      <td>NaN</td>\n      <td>17.700000</td>\n      <td>NaN</td>\n      <td>0.106924</td>\n      <td>NaN</td>\n      <td>194.485720</td>\n      <td>NaN</td>\n      <td>NaN</td>\n      <td>NaN</td>\n      <td>NaN</td>\n      <td>3453.504600</td>\n    </tr>\n    <tr>\n      <th>max</th>\n      <td>NaN</td>\n      <td>21.350000</td>\n      <td>NaN</td>\n      <td>0.328391</td>\n      <td>NaN</td>\n      <td>266.888400</td>\n      <td>NaN</td>\n      <td>NaN</td>\n      <td>NaN</td>\n      <td>NaN</td>\n      <td>13086.964800</td>\n    </tr>\n  </tbody>\n</table>\n</div>"
     },
     "metadata": {},
     "output_type": "execute_result",
     "execution_count": 3
    }
   ],
   "source": [
    "analytics.descreverDataFrame()"
   ]
  },
  {
   "cell_type": "code",
   "execution_count": 4,
   "outputs": [
    {
     "data": {
      "text/plain": "Index(['Item_Identifier', 'Item_Weight', 'Item_Fat_Content', 'Item_Visibility',\n       'Item_Type', 'Item_MRP', 'Outlet_Identifier',\n       'Outlet_Establishment_Year', 'Outlet_Size', 'Outlet_Location_Type',\n       'Outlet_Type', 'Item_Outlet_Sales'],\n      dtype='object')"
     },
     "metadata": {},
     "output_type": "execute_result",
     "execution_count": 4
    }
   ],
   "source": [
    "analytics.columns()"
   ],
   "metadata": {
    "collapsed": false,
    "pycharm": {
     "name": "#%% \n",
     "is_executing": false
    }
   }
  },
  {
   "cell_type": "code",
   "execution_count": 5,
   "outputs": [
    {
     "data": {
      "text/plain": "<matplotlib.axes._subplots.AxesSubplot at 0x1cdcd953d68>"
     },
     "metadata": {},
     "output_type": "execute_result",
     "execution_count": 5
    },
    {
     "data": {
      "text/plain": "<Figure size 720x720 with 1 Axes>",
      "image/png": "[encoded data removed]"
     },
     "metadata": {
      "needs_background": "light"
     },
     "output_type": "display_data"
    }
   ],
   "source": [
    "analytics.plotar('Item_Outlet_Sales', theFigsize=(10,10))"
   ],
   "metadata": {
    "collapsed": false,
    "pycharm": {
     "name": "#%%\n",
     "is_executing": false
    }
   }
  },
  {
   "cell_type": "code",
   "execution_count": 6,
   "outputs": [
    {
     "data": {
      "text/plain": "count     8523.000000\nmean      2181.288914\nstd       1706.499616\nmin         33.290000\n20%        666.465800\n40%       1402.174800\n50%       1794.331000\n60%       2257.328320\n80%       3453.504600\nmax      13086.964800\nName: Item_Outlet_Sales, dtype: float64"
     },
     "metadata": {},
     "output_type": "execute_result",
     "execution_count": 6
    }
   ],
   "source": [
    "analytics.descreverAtributo('Item_Outlet_Sales')"
   ],
   "metadata": {
    "collapsed": false,
    "pycharm": {
     "name": "#%% \n",
     "is_executing": false
    }
   }
  },
  {
   "cell_type": "code",
   "execution_count": 7,
   "outputs": [
    {
     "name": "stdout",
     "text": [
      "Variáveis nulas foram encontradas!!\n",
      "[Criando uma cópia do DataFrame sem as variáveis nulas]\n"
     ],
     "output_type": "stream"
    },
    {
     "data": {
      "text/plain": "<matplotlib.axes._subplots.AxesSubplot at 0x1cdcde19208>"
     },
     "metadata": {},
     "output_type": "execute_result",
     "execution_count": 7
    },
    {
     "data": {
      "text/plain": "<Figure size 432x288 with 1 Axes>",
      "image/png": "[encoded data removed]"
     },
     "metadata": {
      "needs_background": "light"
     },
     "output_type": "display_data"
    }
   ],
   "source": [
    "analytics.plotar('Item_Weight')"
   ],
   "metadata": {
    "collapsed": false,
    "pycharm": {
     "name": "#%%\n",
     "is_executing": false
    }
   }
  },
  {
   "cell_type": "code",
   "execution_count": 8,
   "outputs": [
    {
     "name": "stdout",
     "text": [
      "Variáveis nulas: 1463\n",
      "Variáveis NaN: 1463\n"
     ],
     "output_type": "stream"
    },
    {
     "data": {
      "text/plain": "count    7060.000000\nmean       12.857645\nstd         4.643456\nmin         4.555000\n20%         8.020000\n40%        11.100000\n50%        12.600000\n60%        14.500000\n80%        17.700000\nmax        21.350000\nName: Item_Weight, dtype: float64"
     },
     "metadata": {},
     "output_type": "execute_result",
     "execution_count": 8
    }
   ],
   "source": [
    "analytics.descreverAtributo('Item_Weight')\n"
   ],
   "metadata": {
    "collapsed": false,
    "pycharm": {
     "name": "#%%\n",
     "is_executing": false
    }
   }
  },
  {
   "cell_type": "code",
   "execution_count": 9,
   "outputs": [
    {
     "name": "stdout",
     "text": [
      "Um total de 1463 valores nulos foram encontrados.\n",
      "O valor desses atributos nulos foram definidos para a média dos demais, no caso: 12.857645184136183\n"
     ],
     "output_type": "stream"
    },
    {
     "data": {
      "text/plain": "count    8523.000000\nmean       12.857645\nstd         4.226124\nmin         4.555000\n20%         8.630000\n40%        12.350000\n50%        12.857645\n60%        12.857645\n80%        17.060000\nmax        21.350000\nName: Item_Weight, dtype: float64"
     },
     "metadata": {},
     "output_type": "execute_result",
     "execution_count": 9
    },
    {
     "data": {
      "text/plain": "<Figure size 432x288 with 1 Axes>",
      "image/png": "[encoded data removed]"
     },
     "metadata": {
      "needs_background": "light"
     },
     "output_type": "display_data"
    }
   ],
   "source": [
    "analytics.tratarVariaveisNulasComMediaDasOutras('Item_Weight');\n",
    "analytics.plotar('Item_Weight')\n",
    "analytics.descreverAtributo('Item_Weight')"
   ],
   "metadata": {
    "collapsed": false,
    "pycharm": {
     "name": "#%%\n",
     "is_executing": false
    }
   }
  },
  {
   "cell_type": "markdown",
   "metadata": {},
   "source": [
    "### Selecionando os atributos"
   ]
  },
  {
   "cell_type": "code",
   "execution_count": 10,
   "metadata": {
    "pycharm": {
     "is_executing": false,
     "name": "#%%\n"
    }
   },
   "outputs": [
    {
     "name": "stdout",
     "text": [
      "Nenhum valor nulo foi encontrado na coluna: Item_MRP\n",
      "Nenhum valor nulo foi encontrado na coluna: Outlet_Establishment_Year\n",
      "Nenhum valor nulo foi encontrado na coluna: Item_Fat_Content\n",
      "Nenhum valor nulo foi encontrado na coluna: Item_Visibility\n",
      "Nenhum valor nulo foi encontrado na coluna: Item_Type\n",
      "Atributos de precisão definidos para:\n",
      "-->  Item_MRP\n",
      "-->  Outlet_Establishment_Year\n",
      "-->  Item_Fat_Content\n",
      "-->  Item_Visibility\n",
      "-->  Item_Type\n",
      "Total de 5 atributos.\n"
     ],
     "output_type": "stream"
    }
   ],
   "source": [
    "analytics.tratarVariaveisCategoricasParaNumericas('Item_Visibility')\n",
    "analytics.tratarVariaveisCategoricasParaNumericas('Item_Fat_Content')\n",
    "analytics.tratarVariaveisCategoricasParaNumericas('Item_Type')\n",
    "\n",
    "atributosDePrecisao = ['Item_MRP']; #Maximum Retail Price (Preço MAXIMO de um PRoduto)\n",
    "\n",
    "atributosDePrecisao += ['Outlet_Establishment_Year']; #Ano de criação do estabelecimento\n",
    "#Não Util# atributosDePrecisao += ['Item_Weight']; #Peso\n",
    "atributosDePrecisao += ['Item_Fat_Content']; #Indice de Gordura\n",
    "atributosDePrecisao += ['Item_Visibility']; #Visibilidade\n",
    "atributosDePrecisao += ['Item_Type']; #Tipo\n",
    "\n",
    "for atributo in atributosDePrecisao:\n",
    "    analytics.tratarVariaveisNulasComMediaDasOutras(atributo)\n",
    "\n",
    "analytics.definirAtributosDePrecisao(atributosDePrecisao)"
   ]
  },
  {
   "cell_type": "code",
   "execution_count": 11,
   "outputs": [
    {
     "name": "stdout",
     "text": [
      "Definindo atributo desejado para: Item_Outlet_Sales\n"
     ],
     "output_type": "stream"
    }
   ],
   "source": [
    "analytics.definirAtributoDesejado('Item_Outlet_Sales');"
   ],
   "metadata": {
    "collapsed": false,
    "pycharm": {
     "name": "#%%\n",
     "is_executing": false
    }
   }
  },
  {
   "cell_type": "markdown",
   "metadata": {},
   "source": [
    "### Definindo porcentagem de Teste e Aplicando Regressão Linear"
   ]
  },
  {
   "cell_type": "code",
   "execution_count": 12,
   "metadata": {
    "pycharm": {
     "is_executing": false,
     "name": "#%%\n"
    }
   },
   "outputs": [
    {
     "name": "stdout",
     "text": [
      "Porcentagem de Teste definido para: 30%\n",
      "Porcentagem de Treino definido para: 70%\n",
      "Iniciando regressão Linear!\n",
      "Regressão Linear aplicada com sucesso!\n"
     ],
     "output_type": "stream"
    }
   ],
   "source": [
    "analytics.definirPorcentagemDeTeste(30);\n",
    "analytics.aplicarRegressaoLinear();"
   ]
  },
  {
   "cell_type": "markdown",
   "metadata": {},
   "source": [
    "## Observando Resultados\n",
    "\n",
    "Recomendavel conferir na API, tem mais detalhes sobre como é feito cada um desses métodos."
   ]
  },
  {
   "cell_type": "markdown",
   "metadata": {},
   "source": [
    "#### Peso das variáveis!"
   ]
  },
  {
   "cell_type": "code",
   "execution_count": 13,
   "metadata": {
    "pycharm": {
     "is_executing": false,
     "name": "#%%\n"
    }
   },
   "outputs": [
    {
     "data": {
      "text/plain": "                           0  Coefficient\n0                   Item_MRP    15.799766\n1  Outlet_Establishment_Year   -10.112791\n2           Item_Fat_Content    13.338641\n3            Item_Visibility    -0.069792\n4                  Item_Type    -3.722292",
      "text/html": "<div>\n<style scoped>\n    .dataframe tbody tr th:only-of-type {\n        vertical-align: middle;\n    }\n\n    .dataframe tbody tr th {\n        vertical-align: top;\n    }\n\n    .dataframe thead th {\n        text-align: right;\n    }\n</style>\n<table border=\"1\" class=\"dataframe\">\n  <thead>\n    <tr style=\"text-align: right;\">\n      <th></th>\n      <th>0</th>\n      <th>Coefficient</th>\n    </tr>\n  </thead>\n  <tbody>\n    <tr>\n      <th>0</th>\n      <td>Item_MRP</td>\n      <td>15.799766</td>\n    </tr>\n    <tr>\n      <th>1</th>\n      <td>Outlet_Establishment_Year</td>\n      <td>-10.112791</td>\n    </tr>\n    <tr>\n      <th>2</th>\n      <td>Item_Fat_Content</td>\n      <td>13.338641</td>\n    </tr>\n    <tr>\n      <th>3</th>\n      <td>Item_Visibility</td>\n      <td>-0.069792</td>\n    </tr>\n    <tr>\n      <th>4</th>\n      <td>Item_Type</td>\n      <td>-3.722292</td>\n    </tr>\n  </tbody>\n</table>\n</div>"
     },
     "metadata": {},
     "output_type": "execute_result",
     "execution_count": 13
    }
   ],
   "source": [
    "analytics.calcularCoeficientesDePesos()\n"
   ]
  },
  {
   "cell_type": "markdown",
   "metadata": {},
   "source": [
    "#### Comparando predito com real"
   ]
  },
  {
   "cell_type": "code",
   "execution_count": 14,
   "metadata": {
    "pycharm": {
     "is_executing": false,
     "name": "#%%\n"
    }
   },
   "outputs": [
    {
     "data": {
      "text/plain": "          Atual     Predição\n4096  1263.0226  2921.088130\n3577  3835.0080  4042.781420\n2365  1138.5180  1637.508411\n1399  1808.9786  1656.643321\n1395  1964.1100  3209.867823\n4211  2025.3636  1740.397948\n1490   486.0340  3852.559049\n4859  1438.1280  1376.017297\n6655  5383.6588  3098.676191\n5417  2045.3376  2574.423879\n119   1141.8470  3470.167724\n7942  3237.1196  4082.698072\n6847  3537.3954  2551.937563\n237   1929.4884  1467.881868\n7518  2577.9776  3626.619890",
      "text/html": "<div>\n<style scoped>\n    .dataframe tbody tr th:only-of-type {\n        vertical-align: middle;\n    }\n\n    .dataframe tbody tr th {\n        vertical-align: top;\n    }\n\n    .dataframe thead th {\n        text-align: right;\n    }\n</style>\n<table border=\"1\" class=\"dataframe\">\n  <thead>\n    <tr style=\"text-align: right;\">\n      <th></th>\n      <th>Atual</th>\n      <th>Predição</th>\n    </tr>\n  </thead>\n  <tbody>\n    <tr>\n      <th>4096</th>\n      <td>1263.0226</td>\n      <td>2921.088130</td>\n    </tr>\n    <tr>\n      <th>3577</th>\n      <td>3835.0080</td>\n      <td>4042.781420</td>\n    </tr>\n    <tr>\n      <th>2365</th>\n      <td>1138.5180</td>\n      <td>1637.508411</td>\n    </tr>\n    <tr>\n      <th>1399</th>\n      <td>1808.9786</td>\n      <td>1656.643321</td>\n    </tr>\n    <tr>\n      <th>1395</th>\n      <td>1964.1100</td>\n      <td>3209.867823</td>\n    </tr>\n    <tr>\n      <th>4211</th>\n      <td>2025.3636</td>\n      <td>1740.397948</td>\n    </tr>\n    <tr>\n      <th>1490</th>\n      <td>486.0340</td>\n      <td>3852.559049</td>\n    </tr>\n    <tr>\n      <th>4859</th>\n      <td>1438.1280</td>\n      <td>1376.017297</td>\n    </tr>\n    <tr>\n      <th>6655</th>\n      <td>5383.6588</td>\n      <td>3098.676191</td>\n    </tr>\n    <tr>\n      <th>5417</th>\n      <td>2045.3376</td>\n      <td>2574.423879</td>\n    </tr>\n    <tr>\n      <th>119</th>\n      <td>1141.8470</td>\n      <td>3470.167724</td>\n    </tr>\n    <tr>\n      <th>7942</th>\n      <td>3237.1196</td>\n      <td>4082.698072</td>\n    </tr>\n    <tr>\n      <th>6847</th>\n      <td>3537.3954</td>\n      <td>2551.937563</td>\n    </tr>\n    <tr>\n      <th>237</th>\n      <td>1929.4884</td>\n      <td>1467.881868</td>\n    </tr>\n    <tr>\n      <th>7518</th>\n      <td>2577.9776</td>\n      <td>3626.619890</td>\n    </tr>\n  </tbody>\n</table>\n</div>"
     },
     "metadata": {},
     "output_type": "execute_result",
     "execution_count": 14
    }
   ],
   "source": [
    "dfCompar = analytics.compararPredicao();\n",
    "dfCompar.head(15)"
   ]
  },
  {
   "cell_type": "code",
   "metadata": {
    "pycharm": {
     "name": "#%%\n",
     "is_executing": false
    }
   },
   "source": [
    "import matplotlib.pyplot as plt\n",
    "\n",
    "#Pegar posição de 0 até a 20 e plotar ela!\n",
    "dfCompar.iloc[0:20].plot(kind='bar',figsize=(10,8))\n",
    "plt.grid(which='major', linestyle='-', linewidth='0.5', color='green')\n",
    "plt.grid(which='minor', linestyle=':', linewidth='0.5', color='black')\n",
    "plt.show()\n"
   ],
   "execution_count": 15,
   "outputs": [
    {
     "data": {
      "text/plain": "<Figure size 720x576 with 1 Axes>",
      "image/png": "[encoded data removed]"
     },
     "metadata": {
      "needs_background": "light"
     },
     "output_type": "display_data"
    }
   ]
  },
  {
   "cell_type": "markdown",
   "metadata": {
    "pycharm": {
     "is_executing": false,
     "name": "#%% md\n"
    }
   },
   "source": [
    "#### Calculo de Eficiencia do Algorítimo"
   ]
  },
  {
   "cell_type": "code",
   "execution_count": 16,
   "outputs": [
    {
     "name": "stdout",
     "text": [
      "Erro médio Absoluto: 1039.5451166597993\n",
      "Erro médio Quadrático: 2013508.625832767\n",
      "SQRT do Erro médio Quadrático: 1418.9815452756131\n"
     ],
     "output_type": "stream"
    }
   ],
   "source": [
    "analytics.calcularErroMedioAbsoluto(verbose=True);\n",
    "analytics.calcularErroMedioQuadratico(verbose=True);\n",
    "analytics.calcularRaizQuadradadaDoErroMedioQuadratico(verbose=True);\n"
   ],
   "metadata": {
    "collapsed": false,
    "pycharm": {
     "name": "#%%\n",
     "is_executing": false
    }
   }
  }
 ],
 "metadata": {
  "colab": {
   "collapsed_sections": [],
   "name": "Live Regressão.ipynb",
   "provenance": [],
   "version": "0.3.2"
  },
  "kernelspec": {
   "display_name": "Python 3",
   "language": "python",
   "name": "python3"
  },
  "language_info": {
   "codemirror_mode": {
    "name": "ipython",
    "version": 3
   },
   "file_extension": ".py",
   "mimetype": "text/x-python",
   "name": "python",
   "nbconvert_exporter": "python",
   "pygments_lexer": "ipython3",
   "version": "3.7.3"
  },
  "pycharm": {
   "stem_cell": {
    "cell_type": "raw",
    "source": [],
    "metadata": {
     "collapsed": false
    }
   }
  }
 },
 "nbformat": 4,
 "nbformat_minor": 1
}