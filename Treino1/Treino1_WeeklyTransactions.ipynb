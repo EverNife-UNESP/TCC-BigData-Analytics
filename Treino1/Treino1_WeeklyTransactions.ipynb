{
 "cells": [
  {
   "cell_type": "markdown",
   "metadata": {
    "colab_type": "text",
    "id": "cRFS-9oVMP7i"
   },
   "source": [
    "# FCT Unesp - TCC Treino 1\n",
    "Aluno: Pétrus Antonio Bárbosa Pradella\n",
    "\n",
    "TCC2 - Treinando análise preditiva para dados de transações comerciais.\n",
    "\n",
    "Teste 1\n",
    "    - DataSet Utilizado: Weekly Sales Transactions\n",
    "    - Fonte: Kaggle\n",
    "    - Link: https://www.kaggle.com/crawford/weekly-sales-transactions\n",
    "    \n",
    "    Dataset disponibilizado pelo \"UC Irvine Machine Learning Repository\"\n",
    "\n",
    "Caracteristicas gerais do Dataset:\n",
    "\n",
    "    - Número de Instancias: 811\n",
    "    - Número de Atributos: 53\n",
    "    - Estatisticas de Uso em 29/08/2019 (kaggle):\n",
    "        24,992 views\n",
    "        3,112 downloads\n",
    "\n",
    "    - Mais detalhes tecnicos podem ser encontrados em:\n",
    "        https://archive.ics.uci.edu/ml/datasets/Sales_Transactions_Dataset_Weekly\n"
   ]
  },
  {
   "cell_type": "markdown",
   "metadata": {
    "colab_type": "text",
    "id": "skrcOn_Iy9_c"
   },
   "source": [
    "### Importando as bibliotecas necessárias"
   ]
  },
  {
   "cell_type": "code",
   "execution_count": 4,
   "metadata": {
    "pycharm": {
     "is_executing": false,
     "name": "#%%\n"
    }
   },
   "outputs": [],
   "source": [
    "import numpy as np\n",
    "import pandas as pd\n",
    "import math\n",
    "\n",
    "\n",
    "from pandas import Series, DataFrame\n",
    "from sklearn.model_selection import train_test_split\n",
    "\n"
   ]
  },
  {
   "cell_type": "code",
   "execution_count": 5,
   "metadata": {
    "pycharm": {
     "is_executing": false
    }
   },
   "outputs": [],
   "source": [
    "#Configurações para as análises algébricas:\n",
    "\n",
    "autocorr_nlags_max = 13 # Maximum number of lags for calculating autocorrelation\n",
    "limiar_de_correlacao = 0.7 # Use >= 0.7 for strongly correlated\n",
    "param_top_perc = 0.05 #Porcentagem limiar para escolher os melhores produtos, se aumentar esse valor mais produtos serão consideradores como \"produtos populares\""
   ]
  },
  {
   "cell_type": "markdown",
   "metadata": {
    "colab_type": "text",
    "id": "JIsmWZCKweGm",
    "pycharm": {
     "name": "#%% md\n"
    }
   },
   "source": [
    "### Carregando a base de dados"
   ]
  },
  {
   "cell_type": "code",
   "execution_count": null,
   "metadata": {
    "colab": {},
    "colab_type": "code",
    "id": "sufXkyjjvT9c",
    "pycharm": {
     "is_executing": false
    }
   },
   "outputs": [],
   "source": [
    "current_folder = \"C:/Users/Petrus/Desktop/UNESP/Docs 2016-2020/2019/Segundo Semestre/TCC2/ProjetoTCC2/Treino1\";\n",
    "dataset_file = current_folder + '/Sales_Transactions_Dataset_Weekly.csv';\n",
    "dataset = pd.read_csv(dataset_file)"
   ]
  },
  {
   "cell_type": "code",
   "execution_count": null,
   "metadata": {
    "colab": {
     "base_uri": "https://localhost:8080/",
     "height": 309
    },
    "colab_type": "code",
    "id": "TOSRt3ovyCR9",
    "outputId": "2498ccbe-dc6e-4d0b-8a06-9ba38a0c1959",
    "pycharm": {
     "is_executing": false
    }
   },
   "outputs": [],
   "source": [
    "dataset.head(5)"
   ]
  },
  {
   "cell_type": "markdown",
   "metadata": {
    "colab_type": "text",
    "id": "kCTw2VUhw34i"
   },
   "source": [
    "### Filtrando os atributos Normalizados"
   ]
  },
  {
   "cell_type": "code",
   "execution_count": null,
   "metadata": {
    "pycharm": {
     "is_executing": false
    }
   },
   "outputs": [],
   "source": [
    "col_names = dataset.columns\n",
    "\n",
    "print(col_names)"
   ]
  },
  {
   "cell_type": "code",
   "execution_count": null,
   "metadata": {
    "pycharm": {
     "is_executing": false
    }
   },
   "outputs": [],
   "source": [
    "#dataset_filtered = pd.read_csv(dataset_file).filter(regex='Product_Code|^W[0-9]+$')\n",
    "\n",
    "#Tambem dá para fazer via definição direta... mas o regexa ali é bem mais facil quando se tem como validar ele em algum outro lugar.\n",
    "dataset_filtered = pd.read_csv(dataset_file, \n",
    "                       usecols=[col for col in col_names if 'Product_Code' in col or 'W' in col],\n",
    "                       index_col = 'Product_Code')\n",
    "\n",
    "print(dataset_filtered.shape)\n",
    "dataset_filtered.head(5)"
   ]
  },
  {
   "cell_type": "code",
   "execution_count": null,
   "metadata": {
    "pycharm": {
     "is_executing": false
    }
   },
   "outputs": [],
   "source": [
    "#n_produtos = dataset_filtered[['Product_Code']].count().sum();  # Dá erro pois Product_code virou um index_de_coluna e não mais uma coluna separada!\n",
    "\n",
    "n_produtos = dataset_filtered.shape[0]; #Como fizemos a removeção da coluna de Product_code não dá mais para contar ela, contudo o número de produtos é o mesmo que o número de linhas!\n",
    "n_semanas = len(dataset_filtered.columns);  #Se não tivesse removido a primeira coluna, deveria ser [nColumns - 1];\n",
    "\n",
    "print(\"Número de Produtos Cadastrados: \", n_produtos)\n",
    "print(\"Número de Semanas Contabilizadas: \", n_semanas)\n"
   ]
  },
  {
   "cell_type": "markdown",
   "metadata": {},
   "source": [
    "### Aplicando lógica de regressão linear! (Ténicas usada \"Spearman\")"
   ]
  },
  {
   "cell_type": "code",
   "execution_count": null,
   "metadata": {
    "pycharm": {
     "is_executing": false
    }
   },
   "outputs": [],
   "source": [
    "#Aplicando o método Spearman\n",
    "# Mais informações Tecnicas: https://kite.com/python/examples/665/scipy-compute-the-spearman-correlation\n",
    "# Mais informações Pedagógicas: https://statistics.laerd.com/statistical-guides/spearmans-rank-order-correlation-statistical-guide.php\n",
    "\n",
    "#A ténicas Spearman é recomendada para esse caso pois trata-se de um regressão linear para um dataset que possui apenas dois atributos a serem analisados.\n",
    "\n",
    "correlacao_produtos = dataset_filtered.transpose().corr(method='spearman')\n",
    "print(correlacao_produtos.shape)\n",
    "correlacao_produtos.head(5)\n",
    "\n"
   ]
  },
  {
   "cell_type": "markdown",
   "metadata": {},
   "source": [
    "### Procurando valores com coeficiente alto!\n"
   ]
  },
  {
   "cell_type": "code",
   "execution_count": null,
   "metadata": {
    "pycharm": {
     "is_executing": false
    }
   },
   "outputs": [],
   "source": [
    "set_de_coeficiente_alto = set() # record the individual Product_Code values involved\n",
    "pares_de_coeficiente_alto = [] # record the Product_Code pairs and the correlation value\n",
    "\n",
    "for row in correlacao_produtos:\n",
    "    for col in correlacao_produtos.columns:\n",
    "        if row < col:\n",
    "            \n",
    "            valor_de_correlacao = correlacao_produtos.loc[row, col]\n",
    "\n",
    "            if abs(valor_de_correlacao) >= limiar_de_correlacao:\n",
    "                # Se o valor é maior que o limiar, salvar ele!\n",
    "                #print(row)\n",
    "                #print(col)\n",
    "                #print(corr_val)\n",
    "                pares_de_coeficiente_alto.append((row, col, valor_de_correlacao))\n",
    "                #Adiciona a linha e a coluna\n",
    "                set_de_coeficiente_alto.add(row) \n",
    "                set_de_coeficiente_alto.add(col)\n",
    "            \n",
    "#print(high_corr_list)\n",
    "# Convert list to a dataframe\n",
    "high_correlation_dataframe = pd.DataFrame(pares_de_coeficiente_alto, columns=['Product_1', 'Product_2', 'Corr'])\n",
    "print(f\"Número de produtos com coeficientes de correlação >= {limiar_de_correlacao} ou <= -{limiar_de_correlacao}: {high_correlation_dataframe.shape[0]}\")\n",
    "print(f\"Número total de produtos: {len(set_de_coeficiente_alto)}\")\n",
    "high_correlation_dataframe.head(5)"
   ]
  },
  {
   "cell_type": "markdown",
   "metadata": {},
   "source": [
    "### Analisando popularidade dos itens (maior e menor venda)\n"
   ]
  },
  {
   "cell_type": "code",
   "execution_count": null,
   "metadata": {
    "pycharm": {
     "is_executing": false
    }
   },
   "outputs": [],
   "source": [
    "n_produtos = dataset_filtered.shape[0];\n",
    "n_semanas = len(dataset_filtered.columns);\n",
    "\n",
    "print(\"Número de Produtos Cadastrados: \", n_produtos)\n",
    "print(\"Número de Semanas Contabilizadas: \", n_semanas)\n",
    "print(' ')\n",
    "print(' ')\n",
    "\n",
    "num_top = math.floor(param_top_perc * n_produtos)\n",
    "print(f'Encontrar os [{num_top}] produtos mais e menos populares com base na média das vendas semanáis:')\n",
    "\n",
    "media_venda_mensal = dataset_filtered.mean(axis=1)\n",
    "\n",
    "produtos_mais_vendidos = media_venda_mensal.nlargest(n=num_top).index.values.tolist()\n",
    "produtos_menos_vendidos = media_venda_mensal.nsmallest(n=num_top).index.values.tolist()\n",
    "\n",
    "dataset_mais_vendidos = dataset_filtered[dataset_filtered.index.isin(produtos_mais_vendidos)]\n",
    "dataset_menos_vendidos = dataset_filtered[dataset_filtered.index.isin(produtos_menos_vendidos)]"
   ]
  },
  {
   "cell_type": "code",
   "execution_count": 2,
   "metadata": {
    "pycharm": {
     "is_executing": false
    }
   },
   "outputs": [
    {
     "traceback": [
      "\u001b[1;31m---------------------------------------------------------------------------\u001b[0m",
      "\u001b[1;31mNameError\u001b[0m                                 Traceback (most recent call last)",
      "\u001b[1;32m<ipython-input-2-944db5a8818b>\u001b[0m in \u001b[0;36m<module>\u001b[1;34m\u001b[0m\n\u001b[0;32m      1\u001b[0m \u001b[1;33m\u001b[0m\u001b[0m\n\u001b[0;32m      2\u001b[0m \u001b[1;33m\u001b[0m\u001b[0m\n\u001b[1;32m----> 3\u001b[1;33m \u001b[0mprint\u001b[0m\u001b[1;33m(\u001b[0m\u001b[1;34mf\"Foram encontrados os [{num_top}] produtos mais populares: {dataset_mais_vendidos.shape[0]}\"\u001b[0m\u001b[1;33m)\u001b[0m\u001b[1;33m\u001b[0m\u001b[1;33m\u001b[0m\u001b[0m\n\u001b[0m\u001b[0;32m      4\u001b[0m \u001b[0mdataset_mais_vendidos\u001b[0m\u001b[1;33m.\u001b[0m\u001b[0mhead\u001b[0m\u001b[1;33m(\u001b[0m\u001b[1;36m5\u001b[0m\u001b[1;33m)\u001b[0m\u001b[1;33m\u001b[0m\u001b[1;33m\u001b[0m\u001b[0m\n\u001b[0;32m      5\u001b[0m \u001b[1;33m\u001b[0m\u001b[0m\n",
      "\u001b[1;31mNameError\u001b[0m: name 'num_top' is not defined"
     ],
     "ename": "NameError",
     "evalue": "name 'num_top' is not defined",
     "output_type": "error"
    }
   ],
   "source": [
    "\n",
    "print(f\"Foram encontrados os [{num_top}] produtos mais populares: {dataset_mais_vendidos.shape[0]}\")\n",
    "dataset_mais_vendidos.head(5)"
   ]
  },
  {
   "cell_type": "code",
   "execution_count": null,
   "metadata": {
    "pycharm": {
     "is_executing": false
    }
   },
   "outputs": [],
   "source": [
    "\n",
    "print(f\"Foram encontrados os [{num_top}] produtos menos populares: {dataset_menos_vendidos.shape[0]}\")\n",
    "dataset_menos_vendidos.head(5)"
   ]
  }
 ],
 "metadata": {
  "colab": {
   "collapsed_sections": [],
   "name": "Live Regressão.ipynb",
   "provenance": [],
   "version": "0.3.2"
  },
  "kernelspec": {
   "display_name": "Python 3",
   "language": "python",
   "name": "python3"
  },
  "language_info": {
   "codemirror_mode": {
    "name": "ipython",
    "version": 3
   },
   "file_extension": ".py",
   "mimetype": "text/x-python",
   "name": "python",
   "nbconvert_exporter": "python",
   "pygments_lexer": "ipython3",
   "version": "3.7.3"
  },
  "pycharm": {
   "stem_cell": {
    "cell_type": "raw",
    "source": [],
    "metadata": {
     "collapsed": false
    }
   }
  }
 },
 "nbformat": 4,
 "nbformat_minor": 1
}