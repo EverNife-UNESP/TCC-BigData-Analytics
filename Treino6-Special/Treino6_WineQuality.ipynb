{
 "cells": [
  {
   "cell_type": "markdown",
   "metadata": {},
   "source": [
    "# FCT Unesp - TCC Treino 6\n",
    "Aluno: Pétrus Antonio Bárbosa Pradella\n",
    "\n",
    "TCC2 - Treinando análise preditiva em análise Linear.\n",
    "\n",
    "Teste 1\n",
    "    - DataSet Utilizado: Wine Quality\n",
    "    - Fonte: towardsdatascience.com\n",
    "    - Link: https://drive.google.com/file/d/195gkZ5cTZL11L308MHc7EyBbAoiB4xqf/view\n",
    "    \n",
    "Caracteristicas gerais do Dataset:\n",
    "\n",
    "    - Número de Instancias: 1599\n",
    "    - Número de Atributos: 12"
   ]
  },
  {
   "cell_type": "markdown",
   "metadata": {},
   "source": [
    "### Importando as bibliotecas necessárias"
   ]
  },
  {
   "cell_type": "code",
   "execution_count": 1,
   "metadata": {
    "pycharm": {
     "is_executing": false,
     "name": "#%%\n"
    }
   },
   "outputs": [
    {
     "data": {
      "text/plain": "'1.0.3b'"
     },
     "metadata": {},
     "output_type": "execute_result",
     "execution_count": 1
    }
   ],
   "source": [
    "from myownapi.AnalyticsDTree import AnalyticsDTree;\n",
    "\n",
    "analytics = AnalyticsDTree();\n",
    "\n",
    "analytics.getVersion()\n"
   ]
  },
  {
   "cell_type": "markdown",
   "metadata": {},
   "source": [
    "### Carregando a base de dados"
   ]
  },
  {
   "cell_type": "code",
   "execution_count": 2,
   "metadata": {
    "pycharm": {
     "is_executing": false,
     "name": "#%%\n"
    }
   },
   "outputs": [
    {
     "name": "stdout",
     "text": [
      "Iniciando leitura do arquivo:\n",
      " --> C:/Users/Petrus/Desktop/UNESP/Docs 2016-2020/2019/Segundo Semestre/TCC2/TCC BigData Analytics/Treino5-Special/winequality.csv\n",
      "Arquivo lido com sucesso!\n"
     ],
     "output_type": "stream"
    },
    {
     "data": {
      "text/plain": "   fixed acidity  volatile acidity  citric acid  residual sugar  chlorides  \\\n0            7.4              0.70         0.00             1.9      0.076   \n1            7.8              0.88         0.00             2.6      0.098   \n2            7.8              0.76         0.04             2.3      0.092   \n\n   free sulfur dioxide  total sulfur dioxide  density    pH  sulphates  \\\n0                 11.0                  34.0   0.9978  3.51       0.56   \n1                 25.0                  67.0   0.9968  3.20       0.68   \n2                 15.0                  54.0   0.9970  3.26       0.65   \n\n   alcohol  quality  \n0      9.4        5  \n1      9.8        5  \n2      9.8        5  ",
      "text/html": "<div>\n<style scoped>\n    .dataframe tbody tr th:only-of-type {\n        vertical-align: middle;\n    }\n\n    .dataframe tbody tr th {\n        vertical-align: top;\n    }\n\n    .dataframe thead th {\n        text-align: right;\n    }\n</style>\n<table border=\"1\" class=\"dataframe\">\n  <thead>\n    <tr style=\"text-align: right;\">\n      <th></th>\n      <th>fixed acidity</th>\n      <th>volatile acidity</th>\n      <th>citric acid</th>\n      <th>residual sugar</th>\n      <th>chlorides</th>\n      <th>free sulfur dioxide</th>\n      <th>total sulfur dioxide</th>\n      <th>density</th>\n      <th>pH</th>\n      <th>sulphates</th>\n      <th>alcohol</th>\n      <th>quality</th>\n    </tr>\n  </thead>\n  <tbody>\n    <tr>\n      <th>0</th>\n      <td>7.4</td>\n      <td>0.70</td>\n      <td>0.00</td>\n      <td>1.9</td>\n      <td>0.076</td>\n      <td>11.0</td>\n      <td>34.0</td>\n      <td>0.9978</td>\n      <td>3.51</td>\n      <td>0.56</td>\n      <td>9.4</td>\n      <td>5</td>\n    </tr>\n    <tr>\n      <th>1</th>\n      <td>7.8</td>\n      <td>0.88</td>\n      <td>0.00</td>\n      <td>2.6</td>\n      <td>0.098</td>\n      <td>25.0</td>\n      <td>67.0</td>\n      <td>0.9968</td>\n      <td>3.20</td>\n      <td>0.68</td>\n      <td>9.8</td>\n      <td>5</td>\n    </tr>\n    <tr>\n      <th>2</th>\n      <td>7.8</td>\n      <td>0.76</td>\n      <td>0.04</td>\n      <td>2.3</td>\n      <td>0.092</td>\n      <td>15.0</td>\n      <td>54.0</td>\n      <td>0.9970</td>\n      <td>3.26</td>\n      <td>0.65</td>\n      <td>9.8</td>\n      <td>5</td>\n    </tr>\n  </tbody>\n</table>\n</div>"
     },
     "metadata": {},
     "output_type": "execute_result",
     "execution_count": 2
    }
   ],
   "source": [
    "onlineMode = False;\n",
    "\n",
    "if onlineMode:\n",
    "    dataset_folder_url = \"http://downloads.finalcraft.com.br/tcc/Wines\";\n",
    "else:\n",
    "    dataset_folder_url = \"C:/Users/Petrus/Desktop/UNESP/Docs 2016-2020/2019/Segundo Semestre/TCC2/TCC BigData Analytics/Treino6-Special\";\n",
    "\n",
    "dataset_file = dataset_folder_url + '/winequality.csv';\n",
    "\n",
    "analytics.read_csv(dataset_file);\n",
    "\n",
    "analytics.head(3)"
   ]
  },
  {
   "cell_type": "markdown",
   "metadata": {},
   "source": [
    "### Descrevendo o DataFrame"
   ]
  },
  {
   "cell_type": "code",
   "execution_count": 3,
   "metadata": {
    "pycharm": {
     "is_executing": false,
     "name": "#%% \n"
    }
   },
   "outputs": [
    {
     "data": {
      "text/plain": "       fixed acidity  volatile acidity  citric acid  residual sugar  \\\ncount    1599.000000       1599.000000  1599.000000     1599.000000   \nmean        8.319637          0.527821     0.270976        2.538806   \nstd         1.741096          0.179060     0.194801        1.409928   \nmin         4.600000          0.120000     0.000000        0.900000   \n20%         7.000000          0.370000     0.070000        1.800000   \n40%         7.600000          0.470000     0.210000        2.100000   \n50%         7.900000          0.520000     0.260000        2.200000   \n60%         8.300000          0.570000     0.320000        2.300000   \n80%         9.700000          0.660000     0.460000        2.700000   \nmax        15.900000          1.580000     1.000000       15.500000   \n\n         chlorides  free sulfur dioxide  total sulfur dioxide      density  \\\ncount  1599.000000          1599.000000           1599.000000  1599.000000   \nmean      0.087467            15.874922             46.467792     0.996747   \nstd       0.047065            10.460157             32.895324     0.001887   \nmin       0.012000             1.000000              6.000000     0.990070   \n20%       0.067000             6.000000             19.000000     0.995340   \n40%       0.076000            11.000000             30.000000     0.996300   \n50%       0.079000            14.000000             38.000000     0.996750   \n60%       0.082000            16.000000             45.800000     0.997156   \n80%       0.094000            24.000000             69.000000     0.998174   \nmax       0.611000            72.000000            289.000000     1.003690   \n\n                pH    sulphates      alcohol  \ncount  1599.000000  1599.000000  1599.000000  \nmean      3.311113     0.658149    10.422983  \nstd       0.154386     0.169507     1.065668  \nmin       2.740000     0.330000     8.400000  \n20%       3.180000     0.540000     9.500000  \n40%       3.280000     0.590000     9.900000  \n50%       3.310000     0.620000    10.200000  \n60%       3.350000     0.650000    10.500000  \n80%       3.424000     0.760000    11.300000  \nmax       4.010000     2.000000    14.900000  ",
      "text/html": "<div>\n<style scoped>\n    .dataframe tbody tr th:only-of-type {\n        vertical-align: middle;\n    }\n\n    .dataframe tbody tr th {\n        vertical-align: top;\n    }\n\n    .dataframe thead th {\n        text-align: right;\n    }\n</style>\n<table border=\"1\" class=\"dataframe\">\n  <thead>\n    <tr style=\"text-align: right;\">\n      <th></th>\n      <th>fixed acidity</th>\n      <th>volatile acidity</th>\n      <th>citric acid</th>\n      <th>residual sugar</th>\n      <th>chlorides</th>\n      <th>free sulfur dioxide</th>\n      <th>total sulfur dioxide</th>\n      <th>density</th>\n      <th>pH</th>\n      <th>sulphates</th>\n      <th>alcohol</th>\n    </tr>\n  </thead>\n  <tbody>\n    <tr>\n      <th>count</th>\n      <td>1599.000000</td>\n      <td>1599.000000</td>\n      <td>1599.000000</td>\n      <td>1599.000000</td>\n      <td>1599.000000</td>\n      <td>1599.000000</td>\n      <td>1599.000000</td>\n      <td>1599.000000</td>\n      <td>1599.000000</td>\n      <td>1599.000000</td>\n      <td>1599.000000</td>\n    </tr>\n    <tr>\n      <th>mean</th>\n      <td>8.319637</td>\n      <td>0.527821</td>\n      <td>0.270976</td>\n      <td>2.538806</td>\n      <td>0.087467</td>\n      <td>15.874922</td>\n      <td>46.467792</td>\n      <td>0.996747</td>\n      <td>3.311113</td>\n      <td>0.658149</td>\n      <td>10.422983</td>\n    </tr>\n    <tr>\n      <th>std</th>\n      <td>1.741096</td>\n      <td>0.179060</td>\n      <td>0.194801</td>\n      <td>1.409928</td>\n      <td>0.047065</td>\n      <td>10.460157</td>\n      <td>32.895324</td>\n      <td>0.001887</td>\n      <td>0.154386</td>\n      <td>0.169507</td>\n      <td>1.065668</td>\n    </tr>\n    <tr>\n      <th>min</th>\n      <td>4.600000</td>\n      <td>0.120000</td>\n      <td>0.000000</td>\n      <td>0.900000</td>\n      <td>0.012000</td>\n      <td>1.000000</td>\n      <td>6.000000</td>\n      <td>0.990070</td>\n      <td>2.740000</td>\n      <td>0.330000</td>\n      <td>8.400000</td>\n    </tr>\n    <tr>\n      <th>20%</th>\n      <td>7.000000</td>\n      <td>0.370000</td>\n      <td>0.070000</td>\n      <td>1.800000</td>\n      <td>0.067000</td>\n      <td>6.000000</td>\n      <td>19.000000</td>\n      <td>0.995340</td>\n      <td>3.180000</td>\n      <td>0.540000</td>\n      <td>9.500000</td>\n    </tr>\n    <tr>\n      <th>40%</th>\n      <td>7.600000</td>\n      <td>0.470000</td>\n      <td>0.210000</td>\n      <td>2.100000</td>\n      <td>0.076000</td>\n      <td>11.000000</td>\n      <td>30.000000</td>\n      <td>0.996300</td>\n      <td>3.280000</td>\n      <td>0.590000</td>\n      <td>9.900000</td>\n    </tr>\n    <tr>\n      <th>50%</th>\n      <td>7.900000</td>\n      <td>0.520000</td>\n      <td>0.260000</td>\n      <td>2.200000</td>\n      <td>0.079000</td>\n      <td>14.000000</td>\n      <td>38.000000</td>\n      <td>0.996750</td>\n      <td>3.310000</td>\n      <td>0.620000</td>\n      <td>10.200000</td>\n    </tr>\n    <tr>\n      <th>60%</th>\n      <td>8.300000</td>\n      <td>0.570000</td>\n      <td>0.320000</td>\n      <td>2.300000</td>\n      <td>0.082000</td>\n      <td>16.000000</td>\n      <td>45.800000</td>\n      <td>0.997156</td>\n      <td>3.350000</td>\n      <td>0.650000</td>\n      <td>10.500000</td>\n    </tr>\n    <tr>\n      <th>80%</th>\n      <td>9.700000</td>\n      <td>0.660000</td>\n      <td>0.460000</td>\n      <td>2.700000</td>\n      <td>0.094000</td>\n      <td>24.000000</td>\n      <td>69.000000</td>\n      <td>0.998174</td>\n      <td>3.424000</td>\n      <td>0.760000</td>\n      <td>11.300000</td>\n    </tr>\n    <tr>\n      <th>max</th>\n      <td>15.900000</td>\n      <td>1.580000</td>\n      <td>1.000000</td>\n      <td>15.500000</td>\n      <td>0.611000</td>\n      <td>72.000000</td>\n      <td>289.000000</td>\n      <td>1.003690</td>\n      <td>4.010000</td>\n      <td>2.000000</td>\n      <td>14.900000</td>\n    </tr>\n  </tbody>\n</table>\n</div>"
     },
     "metadata": {},
     "output_type": "execute_result",
     "execution_count": 3
    }
   ],
   "source": [
    "analytics.descreverDataFrame()"
   ]
  },
  {
   "cell_type": "code",
   "execution_count": 4,
   "outputs": [
    {
     "data": {
      "text/plain": "Index(['fixed acidity', 'volatile acidity', 'citric acid', 'residual sugar',\n       'chlorides', 'free sulfur dioxide', 'total sulfur dioxide', 'density',\n       'pH', 'sulphates', 'alcohol', 'quality'],\n      dtype='object')"
     },
     "metadata": {},
     "output_type": "execute_result",
     "execution_count": 4
    }
   ],
   "source": [
    "analytics.columns()"
   ],
   "metadata": {
    "collapsed": false,
    "pycharm": {
     "name": "#%% \n",
     "is_executing": false
    }
   }
  },
  {
   "cell_type": "code",
   "execution_count": 5,
   "outputs": [
    {
     "data": {
      "text/plain": "<matplotlib.axes._subplots.AxesSubplot at 0x1cf8c663860>"
     },
     "metadata": {},
     "output_type": "execute_result",
     "execution_count": 5
    },
    {
     "data": {
      "text/plain": "<Figure size 432x288 with 1 Axes>",
      "image/png": "[encoded data removed]"
     },
     "metadata": {
      "needs_background": "light"
     },
     "output_type": "display_data"
    }
   ],
   "source": [
    "analytics.plotar('quality')\n"
   ],
   "metadata": {
    "collapsed": false,
    "pycharm": {
     "name": "#%%\n",
     "is_executing": false
    }
   }
  },
  {
   "cell_type": "code",
   "execution_count": 6,
   "outputs": [
    {
     "data": {
      "text/plain": "count    1599.000000\nmean        5.636023\nstd         0.807569\nmin         3.000000\n20%         5.000000\n40%         5.000000\n50%         6.000000\n60%         6.000000\n80%         6.000000\nmax         8.000000\nName: quality, dtype: float64"
     },
     "metadata": {},
     "output_type": "execute_result",
     "execution_count": 6
    }
   ],
   "source": [
    "analytics.descreverAtributo('quality')"
   ],
   "metadata": {
    "collapsed": false,
    "pycharm": {
     "name": "#%% \n",
     "is_executing": false
    }
   }
  },
  {
   "cell_type": "code",
   "execution_count": 7,
   "outputs": [
    {
     "data": {
      "text/plain": "fixed acidity           False\nvolatile acidity        False\ncitric acid             False\nresidual sugar          False\nchlorides               False\nfree sulfur dioxide     False\ntotal sulfur dioxide    False\ndensity                 False\npH                      False\nsulphates               False\nalcohol                 False\nquality                 False\ndtype: bool"
     },
     "metadata": {},
     "output_type": "execute_result",
     "execution_count": 7
    }
   ],
   "source": [
    "analytics.atributosComVariaveisNulas()"
   ],
   "metadata": {
    "collapsed": false,
    "pycharm": {
     "name": "#%%\n",
     "is_executing": false
    }
   }
  },
  {
   "cell_type": "markdown",
   "metadata": {},
   "source": [
    "### Selecionando os atributos"
   ]
  },
  {
   "cell_type": "code",
   "execution_count": 8,
   "metadata": {
    "pycharm": {
     "is_executing": false,
     "name": "#%%\n"
    }
   },
   "outputs": [
    {
     "name": "stdout",
     "text": [
      "Atributos de precisão definidos para:\n",
      "-->  fixed acidity\n",
      "-->  volatile acidity\n",
      "-->  citric acid\n",
      "-->  residual sugar\n",
      "-->  chlorides\n",
      "-->  free sulfur dioxide\n",
      "-->  total sulfur dioxide\n",
      "-->  density\n",
      "-->  pH\n",
      "-->  sulphates\n",
      "-->  alcohol\n",
      "Total de 11 atributos.\n"
     ],
     "output_type": "stream"
    }
   ],
   "source": [
    "atributosDePrecisao = ['fixed acidity', 'volatile acidity', 'citric acid', 'residual sugar', 'chlorides', 'free sulfur dioxide', 'total sulfur dioxide', 'density', 'pH', 'sulphates','alcohol']; #Maximum Retail Price (Preço MAXIMO de um PRoduto)\n",
    "\n",
    "analytics.definirAtributosDePrecisao(atributosDePrecisao);"
   ]
  },
  {
   "cell_type": "code",
   "execution_count": 9,
   "metadata": {
    "pycharm": {
     "is_executing": false,
     "name": "#%%\n"
    }
   },
   "outputs": [
    {
     "name": "stdout",
     "text": [
      "Definindo atributo desejado para: quality\n"
     ],
     "output_type": "stream"
    }
   ],
   "source": [
    "analytics.definirAtributoDesejado('quality');"
   ]
  },
  {
   "cell_type": "markdown",
   "metadata": {},
   "source": [
    "### Definindo porcentagem de Teste e Aplicando da Arvore de Decisão"
   ]
  },
  {
   "cell_type": "code",
   "execution_count": 10,
   "metadata": {
    "pycharm": {
     "is_executing": false,
     "name": "#%%\n"
    }
   },
   "outputs": [
    {
     "name": "stdout",
     "text": [
      "Porcentagem de Teste definido para: 20%\n",
      "Porcentagem de Treino definido para: 80%\n",
      "Iniciando regressão Linear!\n",
      "Regressão Linear aplicada com sucesso!\n"
     ],
     "output_type": "stream"
    }
   ],
   "source": [
    "analytics.definirPorcentagemDeTeste(20);\n",
    "analytics.aplicarArvoreDeDecisao();"
   ]
  },
  {
   "cell_type": "markdown",
   "metadata": {},
   "source": [
    "## Observando Resultados\n",
    "\n",
    "Recomendavel conferir na API, tem mais detalhes sobre como é feito cada um desses métodos."
   ]
  },
  {
   "cell_type": "markdown",
   "source": [
    "#### Comparando predito com real"
   ],
   "metadata": {
    "collapsed": false,
    "pycharm": {
     "name": "#%% md\n"
    }
   }
  },
  {
   "cell_type": "code",
   "execution_count": 11,
   "outputs": [
    {
     "data": {
      "text/plain": "      Atual  Predição\n307       6         6\n1369      4         7\n1050      5         5\n1212      6         6\n1465      5         5\n675       5         6\n539       5         6\n1024      7         7\n734       5         6\n1329      6         6\n302       5         5\n1057      5         5\n1499      6         6\n80        5         5\n252       5         5",
      "text/html": "<div>\n<style scoped>\n    .dataframe tbody tr th:only-of-type {\n        vertical-align: middle;\n    }\n\n    .dataframe tbody tr th {\n        vertical-align: top;\n    }\n\n    .dataframe thead th {\n        text-align: right;\n    }\n</style>\n<table border=\"1\" class=\"dataframe\">\n  <thead>\n    <tr style=\"text-align: right;\">\n      <th></th>\n      <th>Atual</th>\n      <th>Predição</th>\n    </tr>\n  </thead>\n  <tbody>\n    <tr>\n      <th>307</th>\n      <td>6</td>\n      <td>6</td>\n    </tr>\n    <tr>\n      <th>1369</th>\n      <td>4</td>\n      <td>7</td>\n    </tr>\n    <tr>\n      <th>1050</th>\n      <td>5</td>\n      <td>5</td>\n    </tr>\n    <tr>\n      <th>1212</th>\n      <td>6</td>\n      <td>6</td>\n    </tr>\n    <tr>\n      <th>1465</th>\n      <td>5</td>\n      <td>5</td>\n    </tr>\n    <tr>\n      <th>675</th>\n      <td>5</td>\n      <td>6</td>\n    </tr>\n    <tr>\n      <th>539</th>\n      <td>5</td>\n      <td>6</td>\n    </tr>\n    <tr>\n      <th>1024</th>\n      <td>7</td>\n      <td>7</td>\n    </tr>\n    <tr>\n      <th>734</th>\n      <td>5</td>\n      <td>6</td>\n    </tr>\n    <tr>\n      <th>1329</th>\n      <td>6</td>\n      <td>6</td>\n    </tr>\n    <tr>\n      <th>302</th>\n      <td>5</td>\n      <td>5</td>\n    </tr>\n    <tr>\n      <th>1057</th>\n      <td>5</td>\n      <td>5</td>\n    </tr>\n    <tr>\n      <th>1499</th>\n      <td>6</td>\n      <td>6</td>\n    </tr>\n    <tr>\n      <th>80</th>\n      <td>5</td>\n      <td>5</td>\n    </tr>\n    <tr>\n      <th>252</th>\n      <td>5</td>\n      <td>5</td>\n    </tr>\n  </tbody>\n</table>\n</div>"
     },
     "metadata": {},
     "output_type": "execute_result",
     "execution_count": 11
    }
   ],
   "source": [
    "dfCompar = analytics.compararPredicao();\n",
    "dfCompar.head(15)"
   ],
   "metadata": {
    "collapsed": false,
    "pycharm": {
     "name": "#%%\n",
     "is_executing": false
    }
   }
  },
  {
   "cell_type": "code",
   "execution_count": 12,
   "outputs": [
    {
     "data": {
      "text/plain": "<Figure size 720x576 with 1 Axes>",
      "image/png": "[encoded data removed]"
     },
     "metadata": {
      "needs_background": "light"
     },
     "output_type": "display_data"
    }
   ],
   "source": [
    "import matplotlib.pyplot as plt\n",
    "\n",
    "#Pegar posição de 0 até a 20 e plotar ela!\n",
    "dfCompar.iloc[0:20].plot(kind='bar',figsize=(10,8))\n",
    "plt.grid(which='major', linestyle='-', linewidth='0.5', color='green')\n",
    "plt.grid(which='minor', linestyle=':', linewidth='0.5', color='black')\n",
    "plt.show()\n"
   ],
   "metadata": {
    "collapsed": false,
    "pycharm": {
     "name": "#%%\n",
     "is_executing": false
    }
   }
  },
  {
   "cell_type": "markdown",
   "metadata": {},
   "source": [
    "#### Calculo de Eficiencia do Algorítimo"
   ]
  },
  {
   "cell_type": "code",
   "execution_count": 13,
   "metadata": {
    "pycharm": {
     "is_executing": false,
     "name": "#%%\n"
    }
   },
   "outputs": [
    {
     "name": "stdout",
     "text": [
      "Erro médio Absoluto: 0.453125\n",
      "Erro médio Quadrático: 0.615625\n",
      "SQRT do Erro médio Quadrático: 0.7846177413237607\n"
     ],
     "output_type": "stream"
    }
   ],
   "source": [
    "analytics.calcularErroMedioAbsoluto(verbose=True);\n",
    "analytics.calcularErroMedioQuadratico(verbose=True);\n",
    "analytics.calcularRaizQuadradadaDoErroMedioQuadratico(verbose=True);"
   ]
  },
  {
   "cell_type": "code",
   "execution_count": 14,
   "outputs": [
    {
     "name": "stdout",
     "text": [
      "\n",
      "              precision    recall  f1-score   support\n",
      "\n",
      "           3       0.00      0.00      0.00         1\n",
      "           4       0.11      0.08      0.09        13\n",
      "           5       0.74      0.68      0.71       151\n",
      "           6       0.55      0.67      0.60       111\n",
      "           7       0.62      0.51      0.56        39\n",
      "           8       0.00      0.00      0.00         5\n",
      "\n",
      "   micro avg       0.62      0.62      0.62       320\n",
      "   macro avg       0.34      0.32      0.33       320\n",
      "weighted avg       0.62      0.62      0.62       320\n",
      "\n"
     ],
     "output_type": "stream"
    }
   ],
   "source": [
    "analytics.confusionMatrix()\n"
   ],
   "metadata": {
    "collapsed": false,
    "pycharm": {
     "name": "#%%\n",
     "is_executing": false
    }
   }
  },
  {
   "cell_type": "markdown",
   "source": [
    "## Exemplo Comparativo de Matriz de Confusão"
   ],
   "metadata": {
    "collapsed": false,
    "pycharm": {
     "name": "#%% md\n"
    }
   }
  },
  {
   "cell_type": "code",
   "source": [
    "analytics.printIMGFromURL('https://miro.medium.com/max/404/1*DYOERtaPlawq2-LDmFK5EA.png')\n"
   ],
   "metadata": {
    "collapsed": false,
    "pycharm": {
     "name": "#%% \n",
     "is_executing": false
    }
   },
   "execution_count": 15,
   "outputs": [
    {
     "traceback": [
      "\u001b[1;31m---------------------------------------------------------------------------\u001b[0m",
      "\u001b[1;31mTypeError\u001b[0m                                 Traceback (most recent call last)",
      "\u001b[1;32m<ipython-input-15-879aa3a25994>\u001b[0m in \u001b[0;36m<module>\u001b[1;34m\u001b[0m\n\u001b[0;32m      1\u001b[0m \u001b[1;33m\u001b[0m\u001b[0m\n\u001b[1;32m----> 2\u001b[1;33m \u001b[0manalytics\u001b[0m\u001b[1;33m.\u001b[0m\u001b[0mprintIMGFromURL\u001b[0m\u001b[1;33m(\u001b[0m\u001b[1;34m'https://miro.medium.com/max/404/1*DYOERtaPlawq2-LDmFK5EA.png'\u001b[0m\u001b[1;33m)\u001b[0m\u001b[1;33m\u001b[0m\u001b[1;33m\u001b[0m\u001b[0m\n\u001b[0m\u001b[0;32m      3\u001b[0m \u001b[1;33m\u001b[0m\u001b[0m\n\u001b[0;32m      4\u001b[0m \u001b[1;33m\u001b[0m\u001b[0m\n",
      "\u001b[1;31mTypeError\u001b[0m: printIMGFromURL() takes 1 positional argument but 2 were given"
     ],
     "ename": "TypeError",
     "evalue": "printIMGFromURL() takes 1 positional argument but 2 were given",
     "output_type": "error"
    }
   ]
  },
  {
   "cell_type": "code",
   "execution_count": null,
   "outputs": [],
   "source": [
    "\n"
   ],
   "metadata": {
    "collapsed": false,
    "pycharm": {
     "name": "#%%\n",
     "is_executing": false
    }
   }
  }
 ],
 "metadata": {
  "colab": {
   "collapsed_sections": [],
   "name": "Live Regressão.ipynb",
   "provenance": [],
   "version": "0.3.2"
  },
  "kernelspec": {
   "display_name": "Python 3",
   "language": "python",
   "name": "python3"
  },
  "language_info": {
   "codemirror_mode": {
    "name": "ipython",
    "version": 3
   },
   "file_extension": ".py",
   "mimetype": "text/x-python",
   "name": "python",
   "nbconvert_exporter": "python",
   "pygments_lexer": "ipython3",
   "version": "3.7.3"
  },
  "pycharm": {
   "stem_cell": {
    "cell_type": "raw",
    "source": [],
    "metadata": {
     "collapsed": false
    }
   }
  }
 },
 "nbformat": 4,
 "nbformat_minor": 1
}