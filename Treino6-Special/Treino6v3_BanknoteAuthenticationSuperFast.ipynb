{
 "cells": [
  {
   "cell_type": "markdown",
   "metadata": {},
   "source": [
    "# FCT Unesp - TCC Treino 6v3\n",
    "Aluno: Pétrus Antonio Bárbosa Pradella\n",
    "\n",
    "TCC2 - Treinando análise preditiva em análise Linear.\n",
    "\n",
    "Teste 1\n",
    "    - DataSet Utilizado: Banknote Authentication Data Set\n",
    "    - Fonte: UC Irvine Machine Learning Repository\n",
    "    - Link: https://archive.ics.uci.edu/ml/datasets/banknote+authentication\n",
    "    \n",
    "Caracteristicas gerais do Dataset:\n",
    "\n",
    "    - Número de Instancias: 1372\n",
    "    - Número de Atributos: 5"
   ]
  },
  {
   "cell_type": "markdown",
   "metadata": {},
   "source": [
    "### Importando as bibliotecas e DataSet"
   ]
  },
  {
   "cell_type": "code",
   "execution_count": 1,
   "metadata": {
    "pycharm": {
     "is_executing": false,
     "name": "#%%\n"
    }
   },
   "outputs": [
    {
     "name": "stdout",
     "text": [
      "Iniciando leitura do arquivo:\n",
      " --> http://downloads.finalcraft.com.br/tcc/BankNotesAuth/banknoteauth.csv\n",
      "Arquivo lido com sucesso!\n"
     ],
     "output_type": "stream"
    }
   ],
   "source": [
    "from myownapi.AnalyticsDTree import AnalyticsDTree;\n",
    "analytics = AnalyticsDTree();\n",
    "analytics.read_csv('http://downloads.finalcraft.com.br/tcc/BankNotesAuth/banknoteauth.csv');"
   ]
  },
  {
   "cell_type": "markdown",
   "source": [
    "### Selecionando os atributos"
   ],
   "metadata": {
    "collapsed": false,
    "pycharm": {
     "name": "#%% md\n"
    }
   }
  },
  {
   "cell_type": "code",
   "execution_count": 2,
   "metadata": {
    "pycharm": {
     "is_executing": false,
     "name": "#%%\n"
    }
   },
   "outputs": [
    {
     "name": "stdout",
     "text": [
      "Atributos de precisão definidos para:\n",
      "-->  Variance\n",
      "-->  Skewness\n",
      "-->  Curtosis\n",
      "-->  Entropy\n",
      "Total de 4 atributos.\n",
      "Definindo atributo desejado para: Class\n"
     ],
     "output_type": "stream"
    }
   ],
   "source": [
    "analytics.definirAtributosDePrecisao(['Variance', 'Skewness', 'Curtosis', 'Entropy']);\n",
    "analytics.definirAtributoDesejado('Class');"
   ]
  },
  {
   "cell_type": "markdown",
   "source": [
    "### Definindo porcentagem de Teste e Aplicando da Arvore de Decisão"
   ],
   "metadata": {
    "collapsed": false
   }
  },
  {
   "cell_type": "code",
   "execution_count": 3,
   "outputs": [
    {
     "name": "stdout",
     "text": [
      "Porcentagem de Teste definido para: 20%\n",
      "Porcentagem de Treino definido para: 80%\n",
      "Iniciando Arvore de Decisão!\n",
      "Arvore de Decisão aplicada com sucesso!\n"
     ],
     "output_type": "stream"
    }
   ],
   "source": [
    "analytics.definirPorcentagemDeTeste(20);\n",
    "analytics.aplicarArvoreDeDecisao();"
   ],
   "metadata": {
    "collapsed": false,
    "pycharm": {
     "name": "#%% \n",
     "is_executing": false
    }
   }
  },
  {
   "cell_type": "markdown",
   "source": [
    "#### Comparando predito com real"
   ],
   "metadata": {
    "collapsed": false,
    "pycharm": {
     "name": "#%% md\n"
    }
   }
  },
  {
   "cell_type": "code",
   "execution_count": 4,
   "outputs": [
    {
     "data": {
      "text/plain": "      Atual  Predição\n629       0         0\n677       0         0\n39        0         0\n1016      1         1\n1264      1         1\n767       1         1\n701       0         0\n311       0         0\n1045      1         1\n788       1         1\n321       0         0\n687       0         0\n307       0         0\n1059      1         1\n1133      1         1",
      "text/html": "<div>\n<style scoped>\n    .dataframe tbody tr th:only-of-type {\n        vertical-align: middle;\n    }\n\n    .dataframe tbody tr th {\n        vertical-align: top;\n    }\n\n    .dataframe thead th {\n        text-align: right;\n    }\n</style>\n<table border=\"1\" class=\"dataframe\">\n  <thead>\n    <tr style=\"text-align: right;\">\n      <th></th>\n      <th>Atual</th>\n      <th>Predição</th>\n    </tr>\n  </thead>\n  <tbody>\n    <tr>\n      <th>629</th>\n      <td>0</td>\n      <td>0</td>\n    </tr>\n    <tr>\n      <th>677</th>\n      <td>0</td>\n      <td>0</td>\n    </tr>\n    <tr>\n      <th>39</th>\n      <td>0</td>\n      <td>0</td>\n    </tr>\n    <tr>\n      <th>1016</th>\n      <td>1</td>\n      <td>1</td>\n    </tr>\n    <tr>\n      <th>1264</th>\n      <td>1</td>\n      <td>1</td>\n    </tr>\n    <tr>\n      <th>767</th>\n      <td>1</td>\n      <td>1</td>\n    </tr>\n    <tr>\n      <th>701</th>\n      <td>0</td>\n      <td>0</td>\n    </tr>\n    <tr>\n      <th>311</th>\n      <td>0</td>\n      <td>0</td>\n    </tr>\n    <tr>\n      <th>1045</th>\n      <td>1</td>\n      <td>1</td>\n    </tr>\n    <tr>\n      <th>788</th>\n      <td>1</td>\n      <td>1</td>\n    </tr>\n    <tr>\n      <th>321</th>\n      <td>0</td>\n      <td>0</td>\n    </tr>\n    <tr>\n      <th>687</th>\n      <td>0</td>\n      <td>0</td>\n    </tr>\n    <tr>\n      <th>307</th>\n      <td>0</td>\n      <td>0</td>\n    </tr>\n    <tr>\n      <th>1059</th>\n      <td>1</td>\n      <td>1</td>\n    </tr>\n    <tr>\n      <th>1133</th>\n      <td>1</td>\n      <td>1</td>\n    </tr>\n  </tbody>\n</table>\n</div>"
     },
     "metadata": {},
     "output_type": "execute_result",
     "execution_count": 4
    }
   ],
   "source": [
    "dfCompar = analytics.compararPredicao();\n",
    "dfCompar.head(15)"
   ],
   "metadata": {
    "collapsed": false,
    "pycharm": {
     "name": "#%%\n",
     "is_executing": false
    }
   }
  },
  {
   "cell_type": "code",
   "execution_count": 5,
   "outputs": [
    {
     "data": {
      "text/plain": "<Figure size 720x576 with 1 Axes>",
      "image/png": "[encoded data removed]"
     },
     "metadata": {
      "needs_background": "light"
     },
     "output_type": "display_data"
    }
   ],
   "source": [
    "analytics.compararPredicaoGraficamente(dataFrame=dfCompar,interval=(3,23));"
   ],
   "metadata": {
    "collapsed": false,
    "pycharm": {
     "name": "#%%\n",
     "is_executing": false
    }
   }
  },
  {
   "cell_type": "markdown",
   "metadata": {},
   "source": [
    "#### Calculo de Eficiencia do Algorítimo"
   ]
  },
  {
   "cell_type": "code",
   "execution_count": 6,
   "metadata": {
    "pycharm": {
     "is_executing": false,
     "name": "#%%\n"
    }
   },
   "outputs": [
    {
     "name": "stdout",
     "text": [
      "Erro médio Absoluto: 0.0036363636363636364\n",
      "Erro médio Quadrático: 0.0036363636363636364\n",
      "SQRT do Erro médio Quadrático: 0.06030226891555272\n"
     ],
     "output_type": "stream"
    }
   ],
   "source": [
    "analytics.calcularErroMedioAbsoluto(verbose=True);\n",
    "analytics.calcularErroMedioQuadratico(verbose=True);\n",
    "analytics.calcularRaizQuadradadaDoErroMedioQuadratico(verbose=True);"
   ]
  },
  {
   "cell_type": "code",
   "execution_count": 7,
   "outputs": [
    {
     "name": "stdout",
     "text": [
      "[[150   1]\n",
      " [  0 124]]\n",
      "              precision    recall  f1-score   support\n",
      "\n",
      "           0       1.00      0.99      1.00       151\n",
      "           1       0.99      1.00      1.00       124\n",
      "\n",
      "   micro avg       1.00      1.00      1.00       275\n",
      "   macro avg       1.00      1.00      1.00       275\n",
      "weighted avg       1.00      1.00      1.00       275\n",
      "\n"
     ],
     "output_type": "stream"
    }
   ],
   "source": [
    "analytics.confusionMatrix()"
   ],
   "metadata": {
    "collapsed": false,
    "pycharm": {
     "name": "#%%\n",
     "is_executing": false
    }
   }
  }
 ],
 "metadata": {
  "colab": {
   "collapsed_sections": [],
   "name": "Live Regressão.ipynb",
   "provenance": [],
   "version": "0.3.2"
  },
  "kernelspec": {
   "display_name": "Python 3",
   "language": "python",
   "name": "python3"
  },
  "language_info": {
   "codemirror_mode": {
    "name": "ipython",
    "version": 3
   },
   "file_extension": ".py",
   "mimetype": "text/x-python",
   "name": "python",
   "nbconvert_exporter": "python",
   "pygments_lexer": "ipython3",
   "version": "3.7.3"
  },
  "pycharm": {
   "stem_cell": {
    "cell_type": "raw",
    "source": [],
    "metadata": {
     "collapsed": false
    }
   }
  }
 },
 "nbformat": 4,
 "nbformat_minor": 1
}